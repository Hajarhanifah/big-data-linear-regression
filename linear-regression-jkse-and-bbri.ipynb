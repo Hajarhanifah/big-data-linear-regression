{
 "cells": [
  {
   "cell_type": "code",
   "execution_count": 1,
   "id": "8cab9061",
   "metadata": {
    "_cell_guid": "b1076dfc-b9ad-4769-8c92-a6c4dae69d19",
    "_uuid": "8f2839f25d086af736a60e9eeb907d3b93b6e0e5",
    "execution": {
     "iopub.execute_input": "2022-03-26T08:27:05.499963Z",
     "iopub.status.busy": "2022-03-26T08:27:05.499325Z",
     "iopub.status.idle": "2022-03-26T08:27:05.515302Z",
     "shell.execute_reply": "2022-03-26T08:27:05.516193Z",
     "shell.execute_reply.started": "2022-03-26T05:56:13.341025Z"
    },
    "papermill": {
     "duration": 0.065567,
     "end_time": "2022-03-26T08:27:05.516575",
     "exception": false,
     "start_time": "2022-03-26T08:27:05.451008",
     "status": "completed"
    },
    "tags": []
   },
   "outputs": [
    {
     "name": "stdout",
     "output_type": "stream",
     "text": [
      "/kaggle/input/dataset-bbri-2022/BBRI.JK220322.csv\n",
      "/kaggle/input/dataset-jkse-and-bbri-2022/JKSE220322.csv\n"
     ]
    }
   ],
   "source": [
    "# This Python 3 environment comes with many helpful analytics libraries installed\n",
    "# It is defined by the kaggle/python Docker image: https://github.com/kaggle/docker-python\n",
    "# For example, here's several helpful packages to load\n",
    "\n",
    "import numpy as np # linear algebra\n",
    "import pandas as pd # data processing, CSV file I/O (e.g. pd.read_csv)\n",
    "\n",
    "# Input data files are available in the read-only \"../input/\" directory\n",
    "# For example, running this (by clicking run or pressing Shift+Enter) will list all files under the input directory\n",
    "\n",
    "import os\n",
    "for dirname, _, filenames in os.walk('/kaggle/input'):\n",
    "    for filename in filenames:\n",
    "        print(os.path.join(dirname, filename))\n",
    "\n",
    "# You can write up to 20GB to the current directory (/kaggle/working/) that gets preserved as output when you create a version using \"Save & Run All\" \n",
    "# You can also write temporary files to /kaggle/temp/, but they won't be saved outside of the current session"
   ]
  },
  {
   "cell_type": "markdown",
   "id": "186497cb",
   "metadata": {
    "papermill": {
     "duration": 0.036434,
     "end_time": "2022-03-26T08:27:05.591456",
     "exception": false,
     "start_time": "2022-03-26T08:27:05.555022",
     "status": "completed"
    },
    "tags": []
   },
   "source": [
    "***\n",
    "# Overview\n",
    "***"
   ]
  },
  {
   "cell_type": "markdown",
   "id": "42cd0f60",
   "metadata": {
    "papermill": {
     "duration": 0.036312,
     "end_time": "2022-03-26T08:27:05.664701",
     "exception": false,
     "start_time": "2022-03-26T08:27:05.628389",
     "status": "completed"
    },
    "tags": []
   },
   "source": [
    "In this notebook, we are going to explore the BRI Stock rates, and JKSE (Jakarta Stock Exchange) , from Yahoo! Finance dataset,and we'll apply  Linear Regression model to see precentage contribute JKSE to BBRI stock prediction"
   ]
  },
  {
   "cell_type": "markdown",
   "id": "ccd93740",
   "metadata": {
    "papermill": {
     "duration": 0.036819,
     "end_time": "2022-03-26T08:27:05.737983",
     "exception": false,
     "start_time": "2022-03-26T08:27:05.701164",
     "status": "completed"
    },
    "tags": []
   },
   "source": [
    "***\n",
    "# Libraries\n",
    "***"
   ]
  },
  {
   "cell_type": "markdown",
   "id": "c98c1513",
   "metadata": {
    "papermill": {
     "duration": 0.036382,
     "end_time": "2022-03-26T08:27:05.812215",
     "exception": false,
     "start_time": "2022-03-26T08:27:05.775833",
     "status": "completed"
    },
    "tags": []
   },
   "source": [
    "Import needed common libraries"
   ]
  },
  {
   "cell_type": "code",
   "execution_count": 2,
   "id": "ab96148c",
   "metadata": {
    "execution": {
     "iopub.execute_input": "2022-03-26T08:27:05.890228Z",
     "iopub.status.busy": "2022-03-26T08:27:05.889617Z",
     "iopub.status.idle": "2022-03-26T08:27:06.851149Z",
     "shell.execute_reply": "2022-03-26T08:27:06.849989Z",
     "shell.execute_reply.started": "2022-03-26T05:56:13.355603Z"
    },
    "papermill": {
     "duration": 1.000581,
     "end_time": "2022-03-26T08:27:06.851302",
     "exception": false,
     "start_time": "2022-03-26T08:27:05.850721",
     "status": "completed"
    },
    "tags": []
   },
   "outputs": [],
   "source": [
    "import numpy as np\n",
    "import pandas as pd\n",
    "import seaborn as sns"
   ]
  },
  {
   "cell_type": "markdown",
   "id": "abfceab1",
   "metadata": {
    "papermill": {
     "duration": 0.037555,
     "end_time": "2022-03-26T08:27:06.926840",
     "exception": false,
     "start_time": "2022-03-26T08:27:06.889285",
     "status": "completed"
    },
    "tags": []
   },
   "source": [
    "***\n",
    "# Data Understanding\n",
    "***"
   ]
  },
  {
   "cell_type": "markdown",
   "id": "b3b18685",
   "metadata": {
    "papermill": {
     "duration": 0.037627,
     "end_time": "2022-03-26T08:27:07.001702",
     "exception": false,
     "start_time": "2022-03-26T08:27:06.964075",
     "status": "completed"
    },
    "tags": []
   },
   "source": [
    "I used is JKSE and BBRI Stocks for 1 year (monthly) starting from March 2021 to March 2022 for the dataset, from Yahoo Finance\n",
    "* [JKSE historical data stock march 2021 - march 2022](https://finance.yahoo.com/quote/%5EJKSE/history?p=%5EJKSE)\n",
    "* [BBRI historical data stock march 2021 - march 2022](https://finance.yahoo.com/quote/BBRI.JK/history?p=BBRI.JK)\n"
   ]
  },
  {
   "cell_type": "markdown",
   "id": "0e29590f",
   "metadata": {
    "papermill": {
     "duration": 0.037175,
     "end_time": "2022-03-26T08:27:07.076377",
     "exception": false,
     "start_time": "2022-03-26T08:27:07.039202",
     "status": "completed"
    },
    "tags": []
   },
   "source": [
    "Read data. Between The Jakarta Composite Index and BBRI in one year"
   ]
  },
  {
   "cell_type": "markdown",
   "id": "7b75593e",
   "metadata": {
    "papermill": {
     "duration": 0.036862,
     "end_time": "2022-03-26T08:27:07.149919",
     "exception": false,
     "start_time": "2022-03-26T08:27:07.113057",
     "status": "completed"
    },
    "tags": []
   },
   "source": [
    "# Understanding the table\t\n",
    "01. **Date:** Date of the day.\n",
    "02. **Open:** The price at which a stock started trading at the opening of the given date.\n",
    "03. **High:** The highest price at which a stock traded during the date.\n",
    "04. **Low:** The lowest price during the date.\n",
    "05. **Close:** The price of an individual stock when the stock exchange closed for the given date.\n",
    "\n",
    "06. **Adj Close:** Adjusted values incorporate changes resulting from corporate actions such as dividend payments, stock splits, or new share issuance.\n",
    "\n",
    "07. **Volume:** The number of shares that exchange hands for a stock within a specific given date."
   ]
  },
  {
   "cell_type": "markdown",
   "id": "45c3e001",
   "metadata": {
    "papermill": {
     "duration": 0.036626,
     "end_time": "2022-03-26T08:27:07.223800",
     "exception": false,
     "start_time": "2022-03-26T08:27:07.187174",
     "status": "completed"
    },
    "tags": []
   },
   "source": [
    "# JKSE Data Load"
   ]
  },
  {
   "cell_type": "code",
   "execution_count": 3,
   "id": "984e21f4",
   "metadata": {
    "execution": {
     "iopub.execute_input": "2022-03-26T08:27:07.303257Z",
     "iopub.status.busy": "2022-03-26T08:27:07.302506Z",
     "iopub.status.idle": "2022-03-26T08:27:07.333897Z",
     "shell.execute_reply": "2022-03-26T08:27:07.333341Z",
     "shell.execute_reply.started": "2022-03-26T05:56:13.366018Z"
    },
    "papermill": {
     "duration": 0.073368,
     "end_time": "2022-03-26T08:27:07.334083",
     "exception": false,
     "start_time": "2022-03-26T08:27:07.260715",
     "status": "completed"
    },
    "tags": []
   },
   "outputs": [
    {
     "name": "stdout",
     "output_type": "stream",
     "text": [
      "<class 'pandas.core.frame.DataFrame'>\n",
      "RangeIndex: 13 entries, 0 to 12\n",
      "Data columns (total 7 columns):\n",
      " #   Column     Non-Null Count  Dtype  \n",
      "---  ------     --------------  -----  \n",
      " 0   Date       13 non-null     object \n",
      " 1   Open       13 non-null     float64\n",
      " 2   High       13 non-null     float64\n",
      " 3   Low        13 non-null     float64\n",
      " 4   Close      13 non-null     float64\n",
      " 5   Adj Close  13 non-null     float64\n",
      " 6   Volume     13 non-null     int64  \n",
      "dtypes: float64(5), int64(1), object(1)\n",
      "memory usage: 856.0+ bytes\n"
     ]
    }
   ],
   "source": [
    "jkse = pd.read_csv('../input/dataset-jkse-and-bbri-2022/JKSE220322.csv')\n",
    "jkse.info()"
   ]
  },
  {
   "cell_type": "code",
   "execution_count": 4,
   "id": "bdcc2dd1",
   "metadata": {
    "execution": {
     "iopub.execute_input": "2022-03-26T08:27:07.411454Z",
     "iopub.status.busy": "2022-03-26T08:27:07.410825Z",
     "iopub.status.idle": "2022-03-26T08:27:07.433536Z",
     "shell.execute_reply": "2022-03-26T08:27:07.434078Z",
     "shell.execute_reply.started": "2022-03-26T05:56:13.386856Z"
    },
    "papermill": {
     "duration": 0.062964,
     "end_time": "2022-03-26T08:27:07.434254",
     "exception": false,
     "start_time": "2022-03-26T08:27:07.371290",
     "status": "completed"
    },
    "tags": []
   },
   "outputs": [
    {
     "data": {
      "text/html": [
       "<div>\n",
       "<style scoped>\n",
       "    .dataframe tbody tr th:only-of-type {\n",
       "        vertical-align: middle;\n",
       "    }\n",
       "\n",
       "    .dataframe tbody tr th {\n",
       "        vertical-align: top;\n",
       "    }\n",
       "\n",
       "    .dataframe thead th {\n",
       "        text-align: right;\n",
       "    }\n",
       "</style>\n",
       "<table border=\"1\" class=\"dataframe\">\n",
       "  <thead>\n",
       "    <tr style=\"text-align: right;\">\n",
       "      <th></th>\n",
       "      <th>Date</th>\n",
       "      <th>Open</th>\n",
       "      <th>High</th>\n",
       "      <th>Low</th>\n",
       "      <th>Close</th>\n",
       "      <th>Adj Close</th>\n",
       "      <th>Volume</th>\n",
       "    </tr>\n",
       "  </thead>\n",
       "  <tbody>\n",
       "    <tr>\n",
       "      <th>0</th>\n",
       "      <td>2021-04-01</td>\n",
       "      <td>5988.022949</td>\n",
       "      <td>6115.620117</td>\n",
       "      <td>5883.523926</td>\n",
       "      <td>5995.616211</td>\n",
       "      <td>5995.616211</td>\n",
       "      <td>2813253600</td>\n",
       "    </tr>\n",
       "    <tr>\n",
       "      <th>1</th>\n",
       "      <td>2021-05-01</td>\n",
       "      <td>5999.661133</td>\n",
       "      <td>6005.087891</td>\n",
       "      <td>5742.038086</td>\n",
       "      <td>5947.462891</td>\n",
       "      <td>5947.462891</td>\n",
       "      <td>2453433400</td>\n",
       "    </tr>\n",
       "    <tr>\n",
       "      <th>2</th>\n",
       "      <td>2021-06-01</td>\n",
       "      <td>6002.480957</td>\n",
       "      <td>6134.881836</td>\n",
       "      <td>5884.917969</td>\n",
       "      <td>5985.488770</td>\n",
       "      <td>5985.488770</td>\n",
       "      <td>3980614000</td>\n",
       "    </tr>\n",
       "    <tr>\n",
       "      <th>3</th>\n",
       "      <td>2021-07-01</td>\n",
       "      <td>6001.121094</td>\n",
       "      <td>6166.305176</td>\n",
       "      <td>5947.618164</td>\n",
       "      <td>6070.039063</td>\n",
       "      <td>6070.039063</td>\n",
       "      <td>3225744000</td>\n",
       "    </tr>\n",
       "    <tr>\n",
       "      <th>4</th>\n",
       "      <td>2021-08-01</td>\n",
       "      <td>6098.007813</td>\n",
       "      <td>6263.539063</td>\n",
       "      <td>5938.407227</td>\n",
       "      <td>6150.298828</td>\n",
       "      <td>6150.298828</td>\n",
       "      <td>4218994600</td>\n",
       "    </tr>\n",
       "    <tr>\n",
       "      <th>5</th>\n",
       "      <td>2021-09-01</td>\n",
       "      <td>6157.820801</td>\n",
       "      <td>6286.942871</td>\n",
       "      <td>5982.766113</td>\n",
       "      <td>6286.942871</td>\n",
       "      <td>6286.942871</td>\n",
       "      <td>4359649400</td>\n",
       "    </tr>\n",
       "    <tr>\n",
       "      <th>6</th>\n",
       "      <td>2021-10-01</td>\n",
       "      <td>6269.237793</td>\n",
       "      <td>6687.133789</td>\n",
       "      <td>6202.905762</td>\n",
       "      <td>6591.346191</td>\n",
       "      <td>6591.346191</td>\n",
       "      <td>3960713500</td>\n",
       "    </tr>\n",
       "    <tr>\n",
       "      <th>7</th>\n",
       "      <td>2021-11-01</td>\n",
       "      <td>6618.122070</td>\n",
       "      <td>6754.463867</td>\n",
       "      <td>6480.009766</td>\n",
       "      <td>6533.932129</td>\n",
       "      <td>6533.932129</td>\n",
       "      <td>4188202600</td>\n",
       "    </tr>\n",
       "    <tr>\n",
       "      <th>8</th>\n",
       "      <td>2021-12-01</td>\n",
       "      <td>6544.517090</td>\n",
       "      <td>6688.378906</td>\n",
       "      <td>6484.578125</td>\n",
       "      <td>6581.481934</td>\n",
       "      <td>6581.481934</td>\n",
       "      <td>4373800600</td>\n",
       "    </tr>\n",
       "    <tr>\n",
       "      <th>9</th>\n",
       "      <td>2022-01-01</td>\n",
       "      <td>6586.259766</td>\n",
       "      <td>6738.109863</td>\n",
       "      <td>6523.929199</td>\n",
       "      <td>6631.150879</td>\n",
       "      <td>6631.150879</td>\n",
       "      <td>3713686800</td>\n",
       "    </tr>\n",
       "    <tr>\n",
       "      <th>10</th>\n",
       "      <td>2022-02-01</td>\n",
       "      <td>6657.791992</td>\n",
       "      <td>6929.911133</td>\n",
       "      <td>6648.078125</td>\n",
       "      <td>6888.170898</td>\n",
       "      <td>6888.170898</td>\n",
       "      <td>4052888600</td>\n",
       "    </tr>\n",
       "    <tr>\n",
       "      <th>11</th>\n",
       "      <td>2022-03-01</td>\n",
       "      <td>6964.696777</td>\n",
       "      <td>7032.702148</td>\n",
       "      <td>6814.183105</td>\n",
       "      <td>6954.964844</td>\n",
       "      <td>6954.964844</td>\n",
       "      <td>2804786900</td>\n",
       "    </tr>\n",
       "    <tr>\n",
       "      <th>12</th>\n",
       "      <td>2022-03-18</td>\n",
       "      <td>6981.262207</td>\n",
       "      <td>7000.587891</td>\n",
       "      <td>6926.414063</td>\n",
       "      <td>6954.964844</td>\n",
       "      <td>6954.964844</td>\n",
       "      <td>0</td>\n",
       "    </tr>\n",
       "  </tbody>\n",
       "</table>\n",
       "</div>"
      ],
      "text/plain": [
       "          Date         Open         High          Low        Close  \\\n",
       "0   2021-04-01  5988.022949  6115.620117  5883.523926  5995.616211   \n",
       "1   2021-05-01  5999.661133  6005.087891  5742.038086  5947.462891   \n",
       "2   2021-06-01  6002.480957  6134.881836  5884.917969  5985.488770   \n",
       "3   2021-07-01  6001.121094  6166.305176  5947.618164  6070.039063   \n",
       "4   2021-08-01  6098.007813  6263.539063  5938.407227  6150.298828   \n",
       "5   2021-09-01  6157.820801  6286.942871  5982.766113  6286.942871   \n",
       "6   2021-10-01  6269.237793  6687.133789  6202.905762  6591.346191   \n",
       "7   2021-11-01  6618.122070  6754.463867  6480.009766  6533.932129   \n",
       "8   2021-12-01  6544.517090  6688.378906  6484.578125  6581.481934   \n",
       "9   2022-01-01  6586.259766  6738.109863  6523.929199  6631.150879   \n",
       "10  2022-02-01  6657.791992  6929.911133  6648.078125  6888.170898   \n",
       "11  2022-03-01  6964.696777  7032.702148  6814.183105  6954.964844   \n",
       "12  2022-03-18  6981.262207  7000.587891  6926.414063  6954.964844   \n",
       "\n",
       "      Adj Close      Volume  \n",
       "0   5995.616211  2813253600  \n",
       "1   5947.462891  2453433400  \n",
       "2   5985.488770  3980614000  \n",
       "3   6070.039063  3225744000  \n",
       "4   6150.298828  4218994600  \n",
       "5   6286.942871  4359649400  \n",
       "6   6591.346191  3960713500  \n",
       "7   6533.932129  4188202600  \n",
       "8   6581.481934  4373800600  \n",
       "9   6631.150879  3713686800  \n",
       "10  6888.170898  4052888600  \n",
       "11  6954.964844  2804786900  \n",
       "12  6954.964844           0  "
      ]
     },
     "metadata": {},
     "output_type": "display_data"
    }
   ],
   "source": [
    "display(jkse)"
   ]
  },
  {
   "cell_type": "code",
   "execution_count": 5,
   "id": "23ee317c",
   "metadata": {
    "execution": {
     "iopub.execute_input": "2022-03-26T08:27:07.515340Z",
     "iopub.status.busy": "2022-03-26T08:27:07.514601Z",
     "iopub.status.idle": "2022-03-26T08:27:07.517389Z",
     "shell.execute_reply": "2022-03-26T08:27:07.518144Z",
     "shell.execute_reply.started": "2022-03-26T05:56:13.409405Z"
    },
    "papermill": {
     "duration": 0.046431,
     "end_time": "2022-03-26T08:27:07.518368",
     "exception": false,
     "start_time": "2022-03-26T08:27:07.471937",
     "status": "completed"
    },
    "tags": []
   },
   "outputs": [
    {
     "name": "stdout",
     "output_type": "stream",
     "text": [
      "(13, 7)\n"
     ]
    }
   ],
   "source": [
    "print(jkse.shape)"
   ]
  },
  {
   "cell_type": "markdown",
   "id": "c67789dc",
   "metadata": {
    "papermill": {
     "duration": 0.038884,
     "end_time": "2022-03-26T08:27:07.597113",
     "exception": false,
     "start_time": "2022-03-26T08:27:07.558229",
     "status": "completed"
    },
    "tags": []
   },
   "source": [
    "This means that our dataset has 13 rows and 7 columns."
   ]
  },
  {
   "cell_type": "code",
   "execution_count": 6,
   "id": "d7831ad6",
   "metadata": {
    "execution": {
     "iopub.execute_input": "2022-03-26T08:27:07.677751Z",
     "iopub.status.busy": "2022-03-26T08:27:07.676956Z",
     "iopub.status.idle": "2022-03-26T08:27:07.687790Z",
     "shell.execute_reply": "2022-03-26T08:27:07.688289Z",
     "shell.execute_reply.started": "2022-03-26T05:56:13.41905Z"
    },
    "papermill": {
     "duration": 0.053139,
     "end_time": "2022-03-26T08:27:07.688462",
     "exception": false,
     "start_time": "2022-03-26T08:27:07.635323",
     "status": "completed"
    },
    "tags": []
   },
   "outputs": [
    {
     "name": "stdout",
     "output_type": "stream",
     "text": [
      "<class 'pandas.core.frame.DataFrame'>\n",
      "RangeIndex: 13 entries, 0 to 12\n",
      "Data columns (total 7 columns):\n",
      " #   Column     Non-Null Count  Dtype  \n",
      "---  ------     --------------  -----  \n",
      " 0   Date       13 non-null     object \n",
      " 1   Open       13 non-null     float64\n",
      " 2   High       13 non-null     float64\n",
      " 3   Low        13 non-null     float64\n",
      " 4   Close      13 non-null     float64\n",
      " 5   Adj Close  13 non-null     float64\n",
      " 6   Volume     13 non-null     int64  \n",
      "dtypes: float64(5), int64(1), object(1)\n",
      "memory usage: 856.0+ bytes\n",
      "None\n"
     ]
    }
   ],
   "source": [
    "print(jkse.info()) "
   ]
  },
  {
   "cell_type": "markdown",
   "id": "75547caf",
   "metadata": {
    "papermill": {
     "duration": 0.038332,
     "end_time": "2022-03-26T08:27:07.765429",
     "exception": false,
     "start_time": "2022-03-26T08:27:07.727097",
     "status": "completed"
    },
    "tags": []
   },
   "source": [
    "# BBRI Data Load"
   ]
  },
  {
   "cell_type": "code",
   "execution_count": 7,
   "id": "e59a184b",
   "metadata": {
    "execution": {
     "iopub.execute_input": "2022-03-26T08:27:07.846136Z",
     "iopub.status.busy": "2022-03-26T08:27:07.845453Z",
     "iopub.status.idle": "2022-03-26T08:27:07.861628Z",
     "shell.execute_reply": "2022-03-26T08:27:07.862370Z",
     "shell.execute_reply.started": "2022-03-26T05:56:13.437384Z"
    },
    "papermill": {
     "duration": 0.058318,
     "end_time": "2022-03-26T08:27:07.862549",
     "exception": false,
     "start_time": "2022-03-26T08:27:07.804231",
     "status": "completed"
    },
    "tags": []
   },
   "outputs": [
    {
     "name": "stdout",
     "output_type": "stream",
     "text": [
      "<class 'pandas.core.frame.DataFrame'>\n",
      "RangeIndex: 13 entries, 0 to 12\n",
      "Data columns (total 7 columns):\n",
      " #   Column     Non-Null Count  Dtype  \n",
      "---  ------     --------------  -----  \n",
      " 0   Date       13 non-null     object \n",
      " 1   Open       13 non-null     float64\n",
      " 2   High       13 non-null     float64\n",
      " 3   Low        13 non-null     float64\n",
      " 4   Close      13 non-null     float64\n",
      " 5   Adj Close  13 non-null     float64\n",
      " 6   Volume     13 non-null     int64  \n",
      "dtypes: float64(5), int64(1), object(1)\n",
      "memory usage: 856.0+ bytes\n"
     ]
    }
   ],
   "source": [
    "bbri = pd.read_csv('../input/dataset-bbri-2022/BBRI.JK220322.csv')\n",
    "bbri.info()"
   ]
  },
  {
   "cell_type": "code",
   "execution_count": 8,
   "id": "903e07fe",
   "metadata": {
    "execution": {
     "iopub.execute_input": "2022-03-26T08:27:07.944553Z",
     "iopub.status.busy": "2022-03-26T08:27:07.943898Z",
     "iopub.status.idle": "2022-03-26T08:27:07.959933Z",
     "shell.execute_reply": "2022-03-26T08:27:07.959207Z",
     "shell.execute_reply.started": "2022-03-26T05:56:13.459328Z"
    },
    "papermill": {
     "duration": 0.058262,
     "end_time": "2022-03-26T08:27:07.960085",
     "exception": false,
     "start_time": "2022-03-26T08:27:07.901823",
     "status": "completed"
    },
    "tags": []
   },
   "outputs": [
    {
     "data": {
      "text/html": [
       "<div>\n",
       "<style scoped>\n",
       "    .dataframe tbody tr th:only-of-type {\n",
       "        vertical-align: middle;\n",
       "    }\n",
       "\n",
       "    .dataframe tbody tr th {\n",
       "        vertical-align: top;\n",
       "    }\n",
       "\n",
       "    .dataframe thead th {\n",
       "        text-align: right;\n",
       "    }\n",
       "</style>\n",
       "<table border=\"1\" class=\"dataframe\">\n",
       "  <thead>\n",
       "    <tr style=\"text-align: right;\">\n",
       "      <th></th>\n",
       "      <th>Date</th>\n",
       "      <th>Open</th>\n",
       "      <th>High</th>\n",
       "      <th>Low</th>\n",
       "      <th>Close</th>\n",
       "      <th>Adj Close</th>\n",
       "      <th>Volume</th>\n",
       "    </tr>\n",
       "  </thead>\n",
       "  <tbody>\n",
       "    <tr>\n",
       "      <th>0</th>\n",
       "      <td>2021-04-01</td>\n",
       "      <td>4350.000000</td>\n",
       "      <td>4460.0</td>\n",
       "      <td>4050.000000</td>\n",
       "      <td>4050.000000</td>\n",
       "      <td>3812.179932</td>\n",
       "      <td>2752110600</td>\n",
       "    </tr>\n",
       "    <tr>\n",
       "      <th>1</th>\n",
       "      <td>2021-05-01</td>\n",
       "      <td>4060.000000</td>\n",
       "      <td>4280.0</td>\n",
       "      <td>3820.000000</td>\n",
       "      <td>4260.000000</td>\n",
       "      <td>4097.568359</td>\n",
       "      <td>2769409500</td>\n",
       "    </tr>\n",
       "    <tr>\n",
       "      <th>2</th>\n",
       "      <td>2021-06-01</td>\n",
       "      <td>4350.000000</td>\n",
       "      <td>4390.0</td>\n",
       "      <td>3860.000000</td>\n",
       "      <td>3940.000000</td>\n",
       "      <td>3789.770020</td>\n",
       "      <td>3325217700</td>\n",
       "    </tr>\n",
       "    <tr>\n",
       "      <th>3</th>\n",
       "      <td>2021-07-01</td>\n",
       "      <td>3940.000000</td>\n",
       "      <td>4030.0</td>\n",
       "      <td>3700.000000</td>\n",
       "      <td>3710.000000</td>\n",
       "      <td>3568.539795</td>\n",
       "      <td>2132270600</td>\n",
       "    </tr>\n",
       "    <tr>\n",
       "      <th>4</th>\n",
       "      <td>2021-08-01</td>\n",
       "      <td>3770.000000</td>\n",
       "      <td>4090.0</td>\n",
       "      <td>3481.758057</td>\n",
       "      <td>3572.665527</td>\n",
       "      <td>3436.441650</td>\n",
       "      <td>2290574201</td>\n",
       "    </tr>\n",
       "    <tr>\n",
       "      <th>5</th>\n",
       "      <td>2021-09-01</td>\n",
       "      <td>3572.665527</td>\n",
       "      <td>3880.0</td>\n",
       "      <td>3463.576416</td>\n",
       "      <td>3850.000000</td>\n",
       "      <td>3703.201660</td>\n",
       "      <td>6073477827</td>\n",
       "    </tr>\n",
       "    <tr>\n",
       "      <th>6</th>\n",
       "      <td>2021-10-01</td>\n",
       "      <td>3850.000000</td>\n",
       "      <td>4460.0</td>\n",
       "      <td>3830.000000</td>\n",
       "      <td>4250.000000</td>\n",
       "      <td>4087.949951</td>\n",
       "      <td>4745652300</td>\n",
       "    </tr>\n",
       "    <tr>\n",
       "      <th>7</th>\n",
       "      <td>2021-11-01</td>\n",
       "      <td>4330.000000</td>\n",
       "      <td>4340.0</td>\n",
       "      <td>4080.000000</td>\n",
       "      <td>4090.000000</td>\n",
       "      <td>3934.050537</td>\n",
       "      <td>2919948500</td>\n",
       "    </tr>\n",
       "    <tr>\n",
       "      <th>8</th>\n",
       "      <td>2021-12-01</td>\n",
       "      <td>4090.000000</td>\n",
       "      <td>4250.0</td>\n",
       "      <td>4050.000000</td>\n",
       "      <td>4110.000000</td>\n",
       "      <td>3953.288086</td>\n",
       "      <td>2371759500</td>\n",
       "    </tr>\n",
       "    <tr>\n",
       "      <th>9</th>\n",
       "      <td>2022-01-01</td>\n",
       "      <td>4120.000000</td>\n",
       "      <td>4240.0</td>\n",
       "      <td>4000.000000</td>\n",
       "      <td>4070.000000</td>\n",
       "      <td>3914.813232</td>\n",
       "      <td>2155349200</td>\n",
       "    </tr>\n",
       "    <tr>\n",
       "      <th>10</th>\n",
       "      <td>2022-02-01</td>\n",
       "      <td>4120.000000</td>\n",
       "      <td>4550.0</td>\n",
       "      <td>4060.000000</td>\n",
       "      <td>4550.000000</td>\n",
       "      <td>4376.511230</td>\n",
       "      <td>3079276500</td>\n",
       "    </tr>\n",
       "    <tr>\n",
       "      <th>11</th>\n",
       "      <td>2022-03-01</td>\n",
       "      <td>4850.000000</td>\n",
       "      <td>4860.0</td>\n",
       "      <td>4370.000000</td>\n",
       "      <td>4580.000000</td>\n",
       "      <td>4405.367188</td>\n",
       "      <td>3172713900</td>\n",
       "    </tr>\n",
       "    <tr>\n",
       "      <th>12</th>\n",
       "      <td>2022-03-18</td>\n",
       "      <td>4700.000000</td>\n",
       "      <td>4700.0</td>\n",
       "      <td>4580.000000</td>\n",
       "      <td>4580.000000</td>\n",
       "      <td>4580.000000</td>\n",
       "      <td>257863400</td>\n",
       "    </tr>\n",
       "  </tbody>\n",
       "</table>\n",
       "</div>"
      ],
      "text/plain": [
       "          Date         Open    High          Low        Close    Adj Close  \\\n",
       "0   2021-04-01  4350.000000  4460.0  4050.000000  4050.000000  3812.179932   \n",
       "1   2021-05-01  4060.000000  4280.0  3820.000000  4260.000000  4097.568359   \n",
       "2   2021-06-01  4350.000000  4390.0  3860.000000  3940.000000  3789.770020   \n",
       "3   2021-07-01  3940.000000  4030.0  3700.000000  3710.000000  3568.539795   \n",
       "4   2021-08-01  3770.000000  4090.0  3481.758057  3572.665527  3436.441650   \n",
       "5   2021-09-01  3572.665527  3880.0  3463.576416  3850.000000  3703.201660   \n",
       "6   2021-10-01  3850.000000  4460.0  3830.000000  4250.000000  4087.949951   \n",
       "7   2021-11-01  4330.000000  4340.0  4080.000000  4090.000000  3934.050537   \n",
       "8   2021-12-01  4090.000000  4250.0  4050.000000  4110.000000  3953.288086   \n",
       "9   2022-01-01  4120.000000  4240.0  4000.000000  4070.000000  3914.813232   \n",
       "10  2022-02-01  4120.000000  4550.0  4060.000000  4550.000000  4376.511230   \n",
       "11  2022-03-01  4850.000000  4860.0  4370.000000  4580.000000  4405.367188   \n",
       "12  2022-03-18  4700.000000  4700.0  4580.000000  4580.000000  4580.000000   \n",
       "\n",
       "        Volume  \n",
       "0   2752110600  \n",
       "1   2769409500  \n",
       "2   3325217700  \n",
       "3   2132270600  \n",
       "4   2290574201  \n",
       "5   6073477827  \n",
       "6   4745652300  \n",
       "7   2919948500  \n",
       "8   2371759500  \n",
       "9   2155349200  \n",
       "10  3079276500  \n",
       "11  3172713900  \n",
       "12   257863400  "
      ]
     },
     "metadata": {},
     "output_type": "display_data"
    }
   ],
   "source": [
    "display(bbri)"
   ]
  },
  {
   "cell_type": "code",
   "execution_count": 9,
   "id": "973c7db6",
   "metadata": {
    "execution": {
     "iopub.execute_input": "2022-03-26T08:27:08.046766Z",
     "iopub.status.busy": "2022-03-26T08:27:08.046132Z",
     "iopub.status.idle": "2022-03-26T08:27:08.048669Z",
     "shell.execute_reply": "2022-03-26T08:27:08.049430Z",
     "shell.execute_reply.started": "2022-03-26T05:56:13.479494Z"
    },
    "papermill": {
     "duration": 0.04835,
     "end_time": "2022-03-26T08:27:08.049616",
     "exception": false,
     "start_time": "2022-03-26T08:27:08.001266",
     "status": "completed"
    },
    "tags": []
   },
   "outputs": [
    {
     "name": "stdout",
     "output_type": "stream",
     "text": [
      "(13, 7)\n"
     ]
    }
   ],
   "source": [
    "print(bbri.shape)"
   ]
  },
  {
   "cell_type": "code",
   "execution_count": 10,
   "id": "301ebda5",
   "metadata": {
    "execution": {
     "iopub.execute_input": "2022-03-26T08:27:08.133261Z",
     "iopub.status.busy": "2022-03-26T08:27:08.132614Z",
     "iopub.status.idle": "2022-03-26T08:27:08.142972Z",
     "shell.execute_reply": "2022-03-26T08:27:08.144096Z",
     "shell.execute_reply.started": "2022-03-26T05:56:13.491347Z"
    },
    "papermill": {
     "duration": 0.054309,
     "end_time": "2022-03-26T08:27:08.144337",
     "exception": false,
     "start_time": "2022-03-26T08:27:08.090028",
     "status": "completed"
    },
    "tags": []
   },
   "outputs": [
    {
     "name": "stdout",
     "output_type": "stream",
     "text": [
      "<class 'pandas.core.frame.DataFrame'>\n",
      "RangeIndex: 13 entries, 0 to 12\n",
      "Data columns (total 7 columns):\n",
      " #   Column     Non-Null Count  Dtype  \n",
      "---  ------     --------------  -----  \n",
      " 0   Date       13 non-null     object \n",
      " 1   Open       13 non-null     float64\n",
      " 2   High       13 non-null     float64\n",
      " 3   Low        13 non-null     float64\n",
      " 4   Close      13 non-null     float64\n",
      " 5   Adj Close  13 non-null     float64\n",
      " 6   Volume     13 non-null     int64  \n",
      "dtypes: float64(5), int64(1), object(1)\n",
      "memory usage: 856.0+ bytes\n",
      "None\n"
     ]
    }
   ],
   "source": [
    "print(jkse.info()) "
   ]
  },
  {
   "cell_type": "markdown",
   "id": "a652c8c5",
   "metadata": {
    "papermill": {
     "duration": 0.04109,
     "end_time": "2022-03-26T08:27:08.227380",
     "exception": false,
     "start_time": "2022-03-26T08:27:08.186290",
     "status": "completed"
    },
    "tags": []
   },
   "source": [
    "***\n",
    "# Data Preparation\n",
    "***"
   ]
  },
  {
   "cell_type": "markdown",
   "id": "aede1a04",
   "metadata": {
    "papermill": {
     "duration": 0.041429,
     "end_time": "2022-03-26T08:27:08.310030",
     "exception": false,
     "start_time": "2022-03-26T08:27:08.268601",
     "status": "completed"
    },
    "tags": []
   },
   "source": [
    "from each dataset, we will take 1 **closing** table / column on JKSE and BBRI to determine the independent and dependent variables"
   ]
  },
  {
   "cell_type": "markdown",
   "id": "2e94de58",
   "metadata": {
    "papermill": {
     "duration": 0.040799,
     "end_time": "2022-03-26T08:27:08.392326",
     "exception": false,
     "start_time": "2022-03-26T08:27:08.351527",
     "status": "completed"
    },
    "tags": []
   },
   "source": [
    "# JKSE Data Closing"
   ]
  },
  {
   "cell_type": "code",
   "execution_count": 11,
   "id": "f7720b69",
   "metadata": {
    "execution": {
     "iopub.execute_input": "2022-03-26T08:27:08.480425Z",
     "iopub.status.busy": "2022-03-26T08:27:08.479374Z",
     "iopub.status.idle": "2022-03-26T08:27:08.489976Z",
     "shell.execute_reply": "2022-03-26T08:27:08.490567Z",
     "shell.execute_reply.started": "2022-03-26T05:56:13.509815Z"
    },
    "papermill": {
     "duration": 0.057601,
     "end_time": "2022-03-26T08:27:08.490755",
     "exception": false,
     "start_time": "2022-03-26T08:27:08.433154",
     "status": "completed"
    },
    "tags": []
   },
   "outputs": [
    {
     "data": {
      "text/html": [
       "<div>\n",
       "<style scoped>\n",
       "    .dataframe tbody tr th:only-of-type {\n",
       "        vertical-align: middle;\n",
       "    }\n",
       "\n",
       "    .dataframe tbody tr th {\n",
       "        vertical-align: top;\n",
       "    }\n",
       "\n",
       "    .dataframe thead th {\n",
       "        text-align: right;\n",
       "    }\n",
       "</style>\n",
       "<table border=\"1\" class=\"dataframe\">\n",
       "  <thead>\n",
       "    <tr style=\"text-align: right;\">\n",
       "      <th></th>\n",
       "      <th>JKSE</th>\n",
       "    </tr>\n",
       "  </thead>\n",
       "  <tbody>\n",
       "    <tr>\n",
       "      <th>0</th>\n",
       "      <td>5995.616211</td>\n",
       "    </tr>\n",
       "    <tr>\n",
       "      <th>1</th>\n",
       "      <td>5947.462891</td>\n",
       "    </tr>\n",
       "    <tr>\n",
       "      <th>2</th>\n",
       "      <td>5985.488770</td>\n",
       "    </tr>\n",
       "    <tr>\n",
       "      <th>3</th>\n",
       "      <td>6070.039063</td>\n",
       "    </tr>\n",
       "    <tr>\n",
       "      <th>4</th>\n",
       "      <td>6150.298828</td>\n",
       "    </tr>\n",
       "    <tr>\n",
       "      <th>5</th>\n",
       "      <td>6286.942871</td>\n",
       "    </tr>\n",
       "    <tr>\n",
       "      <th>6</th>\n",
       "      <td>6591.346191</td>\n",
       "    </tr>\n",
       "    <tr>\n",
       "      <th>7</th>\n",
       "      <td>6533.932129</td>\n",
       "    </tr>\n",
       "    <tr>\n",
       "      <th>8</th>\n",
       "      <td>6581.481934</td>\n",
       "    </tr>\n",
       "    <tr>\n",
       "      <th>9</th>\n",
       "      <td>6631.150879</td>\n",
       "    </tr>\n",
       "    <tr>\n",
       "      <th>10</th>\n",
       "      <td>6888.170898</td>\n",
       "    </tr>\n",
       "    <tr>\n",
       "      <th>11</th>\n",
       "      <td>6954.964844</td>\n",
       "    </tr>\n",
       "    <tr>\n",
       "      <th>12</th>\n",
       "      <td>6954.964844</td>\n",
       "    </tr>\n",
       "  </tbody>\n",
       "</table>\n",
       "</div>"
      ],
      "text/plain": [
       "           JKSE\n",
       "0   5995.616211\n",
       "1   5947.462891\n",
       "2   5985.488770\n",
       "3   6070.039063\n",
       "4   6150.298828\n",
       "5   6286.942871\n",
       "6   6591.346191\n",
       "7   6533.932129\n",
       "8   6581.481934\n",
       "9   6631.150879\n",
       "10  6888.170898\n",
       "11  6954.964844\n",
       "12  6954.964844"
      ]
     },
     "metadata": {},
     "output_type": "display_data"
    }
   ],
   "source": [
    "jkse_closing = pd.read_csv('../input/dataset-jkse-and-bbri-2022/JKSE220322.csv', usecols =['Close'])\n",
    "jkse = jkse_closing.rename(columns={'Close': 'JKSE'})\n",
    "display(jkse)"
   ]
  },
  {
   "cell_type": "markdown",
   "id": "fb59b8dc",
   "metadata": {
    "papermill": {
     "duration": 0.041741,
     "end_time": "2022-03-26T08:27:08.574118",
     "exception": false,
     "start_time": "2022-03-26T08:27:08.532377",
     "status": "completed"
    },
    "tags": []
   },
   "source": [
    "# BBRI Data Closing"
   ]
  },
  {
   "cell_type": "code",
   "execution_count": 12,
   "id": "3c9c75a6",
   "metadata": {
    "execution": {
     "iopub.execute_input": "2022-03-26T08:27:08.663098Z",
     "iopub.status.busy": "2022-03-26T08:27:08.662141Z",
     "iopub.status.idle": "2022-03-26T08:27:08.671854Z",
     "shell.execute_reply": "2022-03-26T08:27:08.672336Z",
     "shell.execute_reply.started": "2022-03-26T05:56:13.531333Z"
    },
    "papermill": {
     "duration": 0.05679,
     "end_time": "2022-03-26T08:27:08.672509",
     "exception": false,
     "start_time": "2022-03-26T08:27:08.615719",
     "status": "completed"
    },
    "tags": []
   },
   "outputs": [
    {
     "data": {
      "text/html": [
       "<div>\n",
       "<style scoped>\n",
       "    .dataframe tbody tr th:only-of-type {\n",
       "        vertical-align: middle;\n",
       "    }\n",
       "\n",
       "    .dataframe tbody tr th {\n",
       "        vertical-align: top;\n",
       "    }\n",
       "\n",
       "    .dataframe thead th {\n",
       "        text-align: right;\n",
       "    }\n",
       "</style>\n",
       "<table border=\"1\" class=\"dataframe\">\n",
       "  <thead>\n",
       "    <tr style=\"text-align: right;\">\n",
       "      <th></th>\n",
       "      <th>BBRI</th>\n",
       "    </tr>\n",
       "  </thead>\n",
       "  <tbody>\n",
       "    <tr>\n",
       "      <th>0</th>\n",
       "      <td>4050.000000</td>\n",
       "    </tr>\n",
       "    <tr>\n",
       "      <th>1</th>\n",
       "      <td>4260.000000</td>\n",
       "    </tr>\n",
       "    <tr>\n",
       "      <th>2</th>\n",
       "      <td>3940.000000</td>\n",
       "    </tr>\n",
       "    <tr>\n",
       "      <th>3</th>\n",
       "      <td>3710.000000</td>\n",
       "    </tr>\n",
       "    <tr>\n",
       "      <th>4</th>\n",
       "      <td>3572.665527</td>\n",
       "    </tr>\n",
       "    <tr>\n",
       "      <th>5</th>\n",
       "      <td>3850.000000</td>\n",
       "    </tr>\n",
       "    <tr>\n",
       "      <th>6</th>\n",
       "      <td>4250.000000</td>\n",
       "    </tr>\n",
       "    <tr>\n",
       "      <th>7</th>\n",
       "      <td>4090.000000</td>\n",
       "    </tr>\n",
       "    <tr>\n",
       "      <th>8</th>\n",
       "      <td>4110.000000</td>\n",
       "    </tr>\n",
       "    <tr>\n",
       "      <th>9</th>\n",
       "      <td>4070.000000</td>\n",
       "    </tr>\n",
       "    <tr>\n",
       "      <th>10</th>\n",
       "      <td>4550.000000</td>\n",
       "    </tr>\n",
       "    <tr>\n",
       "      <th>11</th>\n",
       "      <td>4580.000000</td>\n",
       "    </tr>\n",
       "    <tr>\n",
       "      <th>12</th>\n",
       "      <td>4580.000000</td>\n",
       "    </tr>\n",
       "  </tbody>\n",
       "</table>\n",
       "</div>"
      ],
      "text/plain": [
       "           BBRI\n",
       "0   4050.000000\n",
       "1   4260.000000\n",
       "2   3940.000000\n",
       "3   3710.000000\n",
       "4   3572.665527\n",
       "5   3850.000000\n",
       "6   4250.000000\n",
       "7   4090.000000\n",
       "8   4110.000000\n",
       "9   4070.000000\n",
       "10  4550.000000\n",
       "11  4580.000000\n",
       "12  4580.000000"
      ]
     },
     "metadata": {},
     "output_type": "display_data"
    }
   ],
   "source": [
    "bbri_closing = pd.read_csv('../input/dataset-bbri-2022/BBRI.JK220322.csv', usecols =['Close'])\n",
    "bbri = bbri_closing.rename(columns={'Close': 'BBRI'})\n",
    "display(bbri)"
   ]
  },
  {
   "cell_type": "markdown",
   "id": "6e213aed",
   "metadata": {
    "papermill": {
     "duration": 0.042316,
     "end_time": "2022-03-26T08:27:08.757108",
     "exception": false,
     "start_time": "2022-03-26T08:27:08.714792",
     "status": "completed"
    },
    "tags": []
   },
   "source": [
    "# Merging Data "
   ]
  },
  {
   "cell_type": "markdown",
   "id": "dfcaab33",
   "metadata": {
    "papermill": {
     "duration": 0.042399,
     "end_time": "2022-03-26T08:27:08.842571",
     "exception": false,
     "start_time": "2022-03-26T08:27:08.800172",
     "status": "completed"
    },
    "tags": []
   },
   "source": [
    "Merge data JKSE and BBRI into 1 table"
   ]
  },
  {
   "cell_type": "code",
   "execution_count": 13,
   "id": "3c3b87d8",
   "metadata": {
    "execution": {
     "iopub.execute_input": "2022-03-26T08:27:08.932465Z",
     "iopub.status.busy": "2022-03-26T08:27:08.931407Z",
     "iopub.status.idle": "2022-03-26T08:27:08.947330Z",
     "shell.execute_reply": "2022-03-26T08:27:08.946756Z",
     "shell.execute_reply.started": "2022-03-26T05:56:13.545829Z"
    },
    "papermill": {
     "duration": 0.061748,
     "end_time": "2022-03-26T08:27:08.947466",
     "exception": false,
     "start_time": "2022-03-26T08:27:08.885718",
     "status": "completed"
    },
    "tags": []
   },
   "outputs": [
    {
     "data": {
      "text/html": [
       "<div>\n",
       "<style scoped>\n",
       "    .dataframe tbody tr th:only-of-type {\n",
       "        vertical-align: middle;\n",
       "    }\n",
       "\n",
       "    .dataframe tbody tr th {\n",
       "        vertical-align: top;\n",
       "    }\n",
       "\n",
       "    .dataframe thead th {\n",
       "        text-align: right;\n",
       "    }\n",
       "</style>\n",
       "<table border=\"1\" class=\"dataframe\">\n",
       "  <thead>\n",
       "    <tr style=\"text-align: right;\">\n",
       "      <th></th>\n",
       "      <th>JKSE</th>\n",
       "      <th>BBRI</th>\n",
       "    </tr>\n",
       "  </thead>\n",
       "  <tbody>\n",
       "    <tr>\n",
       "      <th>0</th>\n",
       "      <td>5995.616211</td>\n",
       "      <td>4050.000000</td>\n",
       "    </tr>\n",
       "    <tr>\n",
       "      <th>1</th>\n",
       "      <td>5947.462891</td>\n",
       "      <td>4260.000000</td>\n",
       "    </tr>\n",
       "    <tr>\n",
       "      <th>2</th>\n",
       "      <td>5985.488770</td>\n",
       "      <td>3940.000000</td>\n",
       "    </tr>\n",
       "    <tr>\n",
       "      <th>3</th>\n",
       "      <td>6070.039063</td>\n",
       "      <td>3710.000000</td>\n",
       "    </tr>\n",
       "    <tr>\n",
       "      <th>4</th>\n",
       "      <td>6150.298828</td>\n",
       "      <td>3572.665527</td>\n",
       "    </tr>\n",
       "    <tr>\n",
       "      <th>5</th>\n",
       "      <td>6286.942871</td>\n",
       "      <td>3850.000000</td>\n",
       "    </tr>\n",
       "    <tr>\n",
       "      <th>6</th>\n",
       "      <td>6591.346191</td>\n",
       "      <td>4250.000000</td>\n",
       "    </tr>\n",
       "    <tr>\n",
       "      <th>7</th>\n",
       "      <td>6533.932129</td>\n",
       "      <td>4090.000000</td>\n",
       "    </tr>\n",
       "    <tr>\n",
       "      <th>8</th>\n",
       "      <td>6581.481934</td>\n",
       "      <td>4110.000000</td>\n",
       "    </tr>\n",
       "    <tr>\n",
       "      <th>9</th>\n",
       "      <td>6631.150879</td>\n",
       "      <td>4070.000000</td>\n",
       "    </tr>\n",
       "    <tr>\n",
       "      <th>10</th>\n",
       "      <td>6888.170898</td>\n",
       "      <td>4550.000000</td>\n",
       "    </tr>\n",
       "    <tr>\n",
       "      <th>11</th>\n",
       "      <td>6954.964844</td>\n",
       "      <td>4580.000000</td>\n",
       "    </tr>\n",
       "    <tr>\n",
       "      <th>12</th>\n",
       "      <td>6954.964844</td>\n",
       "      <td>4580.000000</td>\n",
       "    </tr>\n",
       "  </tbody>\n",
       "</table>\n",
       "</div>"
      ],
      "text/plain": [
       "           JKSE         BBRI\n",
       "0   5995.616211  4050.000000\n",
       "1   5947.462891  4260.000000\n",
       "2   5985.488770  3940.000000\n",
       "3   6070.039063  3710.000000\n",
       "4   6150.298828  3572.665527\n",
       "5   6286.942871  3850.000000\n",
       "6   6591.346191  4250.000000\n",
       "7   6533.932129  4090.000000\n",
       "8   6581.481934  4110.000000\n",
       "9   6631.150879  4070.000000\n",
       "10  6888.170898  4550.000000\n",
       "11  6954.964844  4580.000000\n",
       "12  6954.964844  4580.000000"
      ]
     },
     "metadata": {},
     "output_type": "display_data"
    }
   ],
   "source": [
    "data = jkse.join(bbri)\n",
    "display(data)"
   ]
  },
  {
   "cell_type": "code",
   "execution_count": 14,
   "id": "d80ff2b7",
   "metadata": {
    "execution": {
     "iopub.execute_input": "2022-03-26T08:27:09.039425Z",
     "iopub.status.busy": "2022-03-26T08:27:09.038707Z",
     "iopub.status.idle": "2022-03-26T08:27:09.042694Z",
     "shell.execute_reply": "2022-03-26T08:27:09.042037Z",
     "shell.execute_reply.started": "2022-03-26T05:56:13.559416Z"
    },
    "papermill": {
     "duration": 0.051716,
     "end_time": "2022-03-26T08:27:09.042838",
     "exception": false,
     "start_time": "2022-03-26T08:27:08.991122",
     "status": "completed"
    },
    "tags": []
   },
   "outputs": [
    {
     "name": "stdout",
     "output_type": "stream",
     "text": [
      "(13, 2)\n"
     ]
    }
   ],
   "source": [
    "print(data.shape)"
   ]
  },
  {
   "cell_type": "markdown",
   "id": "062f2997",
   "metadata": {
    "papermill": {
     "duration": 0.044244,
     "end_time": "2022-03-26T08:27:09.130743",
     "exception": false,
     "start_time": "2022-03-26T08:27:09.086499",
     "status": "completed"
    },
    "tags": []
   },
   "source": [
    "**Statistical Dataset**"
   ]
  },
  {
   "cell_type": "code",
   "execution_count": 15,
   "id": "96ca0c0c",
   "metadata": {
    "execution": {
     "iopub.execute_input": "2022-03-26T08:27:09.220538Z",
     "iopub.status.busy": "2022-03-26T08:27:09.219855Z",
     "iopub.status.idle": "2022-03-26T08:27:09.238256Z",
     "shell.execute_reply": "2022-03-26T08:27:09.238742Z",
     "shell.execute_reply.started": "2022-03-26T05:56:13.565208Z"
    },
    "papermill": {
     "duration": 0.064721,
     "end_time": "2022-03-26T08:27:09.238931",
     "exception": false,
     "start_time": "2022-03-26T08:27:09.174210",
     "status": "completed"
    },
    "tags": []
   },
   "outputs": [
    {
     "data": {
      "text/html": [
       "<div>\n",
       "<style scoped>\n",
       "    .dataframe tbody tr th:only-of-type {\n",
       "        vertical-align: middle;\n",
       "    }\n",
       "\n",
       "    .dataframe tbody tr th {\n",
       "        vertical-align: top;\n",
       "    }\n",
       "\n",
       "    .dataframe thead th {\n",
       "        text-align: right;\n",
       "    }\n",
       "</style>\n",
       "<table border=\"1\" class=\"dataframe\">\n",
       "  <thead>\n",
       "    <tr style=\"text-align: right;\">\n",
       "      <th></th>\n",
       "      <th>JKSE</th>\n",
       "      <th>BBRI</th>\n",
       "    </tr>\n",
       "  </thead>\n",
       "  <tbody>\n",
       "    <tr>\n",
       "      <th>count</th>\n",
       "      <td>13.000000</td>\n",
       "      <td>13.000000</td>\n",
       "    </tr>\n",
       "    <tr>\n",
       "      <th>mean</th>\n",
       "      <td>6428.604643</td>\n",
       "      <td>4124.051194</td>\n",
       "    </tr>\n",
       "    <tr>\n",
       "      <th>std</th>\n",
       "      <td>377.348855</td>\n",
       "      <td>319.604139</td>\n",
       "    </tr>\n",
       "    <tr>\n",
       "      <th>min</th>\n",
       "      <td>5947.462891</td>\n",
       "      <td>3572.665527</td>\n",
       "    </tr>\n",
       "    <tr>\n",
       "      <th>25%</th>\n",
       "      <td>6070.039063</td>\n",
       "      <td>3940.000000</td>\n",
       "    </tr>\n",
       "    <tr>\n",
       "      <th>50%</th>\n",
       "      <td>6533.932129</td>\n",
       "      <td>4090.000000</td>\n",
       "    </tr>\n",
       "    <tr>\n",
       "      <th>75%</th>\n",
       "      <td>6631.150879</td>\n",
       "      <td>4260.000000</td>\n",
       "    </tr>\n",
       "    <tr>\n",
       "      <th>max</th>\n",
       "      <td>6954.964844</td>\n",
       "      <td>4580.000000</td>\n",
       "    </tr>\n",
       "  </tbody>\n",
       "</table>\n",
       "</div>"
      ],
      "text/plain": [
       "              JKSE         BBRI\n",
       "count    13.000000    13.000000\n",
       "mean   6428.604643  4124.051194\n",
       "std     377.348855   319.604139\n",
       "min    5947.462891  3572.665527\n",
       "25%    6070.039063  3940.000000\n",
       "50%    6533.932129  4090.000000\n",
       "75%    6631.150879  4260.000000\n",
       "max    6954.964844  4580.000000"
      ]
     },
     "execution_count": 15,
     "metadata": {},
     "output_type": "execute_result"
    }
   ],
   "source": [
    "data.describe()"
   ]
  },
  {
   "cell_type": "code",
   "execution_count": 16,
   "id": "6c610ce6",
   "metadata": {
    "execution": {
     "iopub.execute_input": "2022-03-26T08:27:09.331677Z",
     "iopub.status.busy": "2022-03-26T08:27:09.331017Z",
     "iopub.status.idle": "2022-03-26T08:27:09.337855Z",
     "shell.execute_reply": "2022-03-26T08:27:09.338484Z",
     "shell.execute_reply.started": "2022-03-26T05:56:13.588001Z"
    },
    "papermill": {
     "duration": 0.055597,
     "end_time": "2022-03-26T08:27:09.338669",
     "exception": false,
     "start_time": "2022-03-26T08:27:09.283072",
     "status": "completed"
    },
    "tags": []
   },
   "outputs": [
    {
     "name": "stdout",
     "output_type": "stream",
     "text": [
      "          JKSE         BBRI\n",
      "0  5995.616211  4050.000000\n",
      "1  5947.462891  4260.000000\n",
      "2  5985.488770  3940.000000\n",
      "3  6070.039063  3710.000000\n",
      "4  6150.298828  3572.665527\n"
     ]
    }
   ],
   "source": [
    "print(data.head())"
   ]
  },
  {
   "cell_type": "markdown",
   "id": "469c65f2",
   "metadata": {
    "papermill": {
     "duration": 0.04446,
     "end_time": "2022-03-26T08:27:09.427629",
     "exception": false,
     "start_time": "2022-03-26T08:27:09.383169",
     "status": "completed"
    },
    "tags": []
   },
   "source": [
    "***\n",
    "# Linear Regression\n",
    "***"
   ]
  },
  {
   "cell_type": "markdown",
   "id": "2cc8691d",
   "metadata": {
    "papermill": {
     "duration": 0.04439,
     "end_time": "2022-03-26T08:27:09.516728",
     "exception": false,
     "start_time": "2022-03-26T08:27:09.472338",
     "status": "completed"
    },
    "tags": []
   },
   "source": [
    "# Constanta and Coefficient"
   ]
  },
  {
   "cell_type": "code",
   "execution_count": 17,
   "id": "9d8d41d4",
   "metadata": {
    "execution": {
     "iopub.execute_input": "2022-03-26T08:27:09.609291Z",
     "iopub.status.busy": "2022-03-26T08:27:09.608638Z",
     "iopub.status.idle": "2022-03-26T08:27:09.612194Z",
     "shell.execute_reply": "2022-03-26T08:27:09.612756Z",
     "shell.execute_reply.started": "2022-03-26T05:56:13.598023Z"
    },
    "papermill": {
     "duration": 0.051635,
     "end_time": "2022-03-26T08:27:09.612928",
     "exception": false,
     "start_time": "2022-03-26T08:27:09.561293",
     "status": "completed"
    },
    "tags": []
   },
   "outputs": [],
   "source": [
    "X = data['JKSE'].values\n",
    "Y = data['BBRI'].values"
   ]
  },
  {
   "cell_type": "code",
   "execution_count": 18,
   "id": "b813fd06",
   "metadata": {
    "execution": {
     "iopub.execute_input": "2022-03-26T08:27:09.711095Z",
     "iopub.status.busy": "2022-03-26T08:27:09.710023Z",
     "iopub.status.idle": "2022-03-26T08:27:09.713717Z",
     "shell.execute_reply": "2022-03-26T08:27:09.714548Z",
     "shell.execute_reply.started": "2022-03-26T05:56:13.607543Z"
    },
    "papermill": {
     "duration": 0.057223,
     "end_time": "2022-03-26T08:27:09.714808",
     "exception": false,
     "start_time": "2022-03-26T08:27:09.657585",
     "status": "completed"
    },
    "tags": []
   },
   "outputs": [
    {
     "name": "stdout",
     "output_type": "stream",
     "text": [
      "0.6253285009837307 104.06148984898755\n"
     ]
    }
   ],
   "source": [
    "#Mean X and Y\n",
    "mean_x = np.mean(X)\n",
    "mean_y = np.mean(Y)\n",
    "\n",
    "#Total number of values\n",
    "total_values = len(X)\n",
    "\n",
    "#using the formula to calculate b1 and b2\n",
    "# coefficient (b0) \n",
    "# constanta (b1)\n",
    "numeric = 0\n",
    "denom = 0\n",
    "for i in range(total_values):\n",
    "    numeric += (X[i] - mean_x) * (Y[i]- mean_y)\n",
    "    denom += (X[i] - mean_x) ** 2\n",
    "b1 = numeric/denom\n",
    "b0 = mean_y - (b1 * mean_x)\n",
    "\n",
    "#Print coefficients\n",
    "print(b1,b0)"
   ]
  },
  {
   "cell_type": "markdown",
   "id": "28282b05",
   "metadata": {
    "papermill": {
     "duration": 0.044923,
     "end_time": "2022-03-26T08:27:09.807414",
     "exception": false,
     "start_time": "2022-03-26T08:27:09.762491",
     "status": "completed"
    },
    "tags": []
   },
   "source": [
    "# 2D Graph"
   ]
  },
  {
   "cell_type": "code",
   "execution_count": 19,
   "id": "fe2e7bab",
   "metadata": {
    "execution": {
     "iopub.execute_input": "2022-03-26T08:27:09.901739Z",
     "iopub.status.busy": "2022-03-26T08:27:09.900701Z",
     "iopub.status.idle": "2022-03-26T08:27:09.907745Z",
     "shell.execute_reply": "2022-03-26T08:27:09.908371Z",
     "shell.execute_reply.started": "2022-03-26T05:56:13.620369Z"
    },
    "papermill": {
     "duration": 0.056414,
     "end_time": "2022-03-26T08:27:09.908544",
     "exception": false,
     "start_time": "2022-03-26T08:27:09.852130",
     "status": "completed"
    },
    "tags": []
   },
   "outputs": [],
   "source": [
    "%matplotlib inline\n",
    "import matplotlib.pyplot as plt\n",
    "plt.rcParams['figure.figsize'] = (20.0 , 10.0)"
   ]
  },
  {
   "cell_type": "code",
   "execution_count": 20,
   "id": "04944f85",
   "metadata": {
    "execution": {
     "iopub.execute_input": "2022-03-26T08:27:10.012151Z",
     "iopub.status.busy": "2022-03-26T08:27:10.007817Z",
     "iopub.status.idle": "2022-03-26T08:27:10.309335Z",
     "shell.execute_reply": "2022-03-26T08:27:10.309874Z",
     "shell.execute_reply.started": "2022-03-26T05:56:13.632237Z"
    },
    "papermill": {
     "duration": 0.356265,
     "end_time": "2022-03-26T08:27:10.310054",
     "exception": false,
     "start_time": "2022-03-26T08:27:09.953789",
     "status": "completed"
    },
    "tags": []
   },
   "outputs": [
    {
     "data": {
      "image/png": "[encoded data removed]",
      "text/plain": [
       "<Figure size 1440x720 with 1 Axes>"
      ]
     },
     "metadata": {
      "needs_background": "light"
     },
     "output_type": "display_data"
    }
   ],
   "source": [
    "#ploting values and regression line\n",
    "max_x = np.max(X) + 100\n",
    "min_x = np.min(X) - 100\n",
    "\n",
    "#calculating line values x and y\n",
    "x = np.linspace(min_x, max_x, 100)\n",
    "y = b0+b1*x\n",
    "\n",
    "#ploting line\n",
    "plt.plot(x,y, color='#58b970', label = 'Regression Line')\n",
    "\n",
    "#ploting scatters points\n",
    "plt.scatter(X,Y, c='#ef5423' , label ='Scatter Plot')\n",
    "\n",
    "plt.xlabel('JKSE')\n",
    "plt.ylabel('BBRI')\n",
    "plt.legend()\n",
    "plt.show()"
   ]
  },
  {
   "cell_type": "code",
   "execution_count": 21,
   "id": "618a6ab0",
   "metadata": {
    "execution": {
     "iopub.execute_input": "2022-03-26T08:27:10.409096Z",
     "iopub.status.busy": "2022-03-26T08:27:10.408429Z",
     "iopub.status.idle": "2022-03-26T08:27:10.656757Z",
     "shell.execute_reply": "2022-03-26T08:27:10.657278Z",
     "shell.execute_reply.started": "2022-03-26T05:56:13.907106Z"
    },
    "papermill": {
     "duration": 0.30002,
     "end_time": "2022-03-26T08:27:10.657443",
     "exception": false,
     "start_time": "2022-03-26T08:27:10.357423",
     "status": "completed"
    },
    "tags": []
   },
   "outputs": [
    {
     "data": {
      "image/png": "[encoded data removed]",
      "text/plain": [
       "<Figure size 1440x720 with 1 Axes>"
      ]
     },
     "metadata": {
      "needs_background": "light"
     },
     "output_type": "display_data"
    }
   ],
   "source": [
    "data.plot(x='JKSE', y='BBRI', style='o')\n",
    "plt.title('JKSE and BBRI Precentage')\n",
    "plt.xlabel('BBRI')\n",
    "plt.ylabel('JKSE')\n",
    "plt.show()"
   ]
  },
  {
   "cell_type": "markdown",
   "id": "4c58bc30",
   "metadata": {
    "papermill": {
     "duration": 0.047099,
     "end_time": "2022-03-26T08:27:10.752345",
     "exception": false,
     "start_time": "2022-03-26T08:27:10.705246",
     "status": "completed"
    },
    "tags": []
   },
   "source": [
    "From the graph above, we can see the influence of JKSE on the market from BBRI"
   ]
  },
  {
   "cell_type": "markdown",
   "id": "524a7a4a",
   "metadata": {
    "papermill": {
     "duration": 0.046937,
     "end_time": "2022-03-26T08:27:10.846420",
     "exception": false,
     "start_time": "2022-03-26T08:27:10.799483",
     "status": "completed"
    },
    "tags": []
   },
   "source": [
    "# R-Squared"
   ]
  },
  {
   "cell_type": "markdown",
   "id": "cdc7f05f",
   "metadata": {
    "papermill": {
     "duration": 0.046918,
     "end_time": "2022-03-26T08:27:10.940520",
     "exception": false,
     "start_time": "2022-03-26T08:27:10.893602",
     "status": "completed"
    },
    "tags": []
   },
   "source": [
    "knowing how big the percentage of the model to the results"
   ]
  },
  {
   "cell_type": "code",
   "execution_count": 22,
   "id": "923b0ece",
   "metadata": {
    "execution": {
     "iopub.execute_input": "2022-03-26T08:27:11.042420Z",
     "iopub.status.busy": "2022-03-26T08:27:11.041570Z",
     "iopub.status.idle": "2022-03-26T08:27:11.044576Z",
     "shell.execute_reply": "2022-03-26T08:27:11.045068Z",
     "shell.execute_reply.started": "2022-03-26T05:56:14.145464Z"
    },
    "papermill": {
     "duration": 0.05737,
     "end_time": "2022-03-26T08:27:11.045229",
     "exception": false,
     "start_time": "2022-03-26T08:27:10.987859",
     "status": "completed"
    },
    "tags": []
   },
   "outputs": [
    {
     "name": "stdout",
     "output_type": "stream",
     "text": [
      "0.5451019439622579\n"
     ]
    }
   ],
   "source": [
    "#ss_t = realitation value\n",
    "#ss_r = prediction value\n",
    "ss_t = 0\n",
    "ss_r = 0\n",
    "for i in range(total_values):\n",
    "    y_pred = b0 + b1 * X[i]\n",
    "    ss_t += (Y[i] - mean_y) ** 2\n",
    "    ss_r += (Y[i] - y_pred) ** 2\n",
    "r2 = 1 - (ss_r/ss_t)\n",
    "print(r2)"
   ]
  },
  {
   "cell_type": "markdown",
   "id": "85884cea",
   "metadata": {
    "papermill": {
     "duration": 0.0475,
     "end_time": "2022-03-26T08:27:11.141486",
     "exception": false,
     "start_time": "2022-03-26T08:27:11.093986",
     "status": "completed"
    },
    "tags": []
   },
   "source": [
    "* BBRI stock exchange against JKSE produces a positive scatterplot\n",
    "* JKSE contributes 55% to BBRI stock prediction"
   ]
  }
 ],
 "metadata": {
  "kernelspec": {
   "display_name": "Python 3",
   "language": "python",
   "name": "python3"
  },
  "language_info": {
   "codemirror_mode": {
    "name": "ipython",
    "version": 3
   },
   "file_extension": ".py",
   "mimetype": "text/x-python",
   "name": "python",
   "nbconvert_exporter": "python",
   "pygments_lexer": "ipython3",
   "version": "3.7.12"
  },
  "papermill": {
   "default_parameters": {},
   "duration": 16.194049,
   "end_time": "2022-03-26T08:27:11.899466",
   "environment_variables": {},
   "exception": null,
   "input_path": "__notebook__.ipynb",
   "output_path": "__notebook__.ipynb",
   "parameters": {},
   "start_time": "2022-03-26T08:26:55.705417",
   "version": "2.3.3"
  }
 },
 "nbformat": 4,
 "nbformat_minor": 5
}
