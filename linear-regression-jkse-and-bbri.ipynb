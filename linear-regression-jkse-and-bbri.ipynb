{
 "cells": [
  {
   "cell_type": "code",
   "execution_count": 1,
   "id": "43f1a571",
   "metadata": {
    "_cell_guid": "b1076dfc-b9ad-4769-8c92-a6c4dae69d19",
    "_uuid": "8f2839f25d086af736a60e9eeb907d3b93b6e0e5",
    "execution": {
     "iopub.execute_input": "2022-03-26T04:05:49.731215Z",
     "iopub.status.busy": "2022-03-26T04:05:49.724768Z",
     "iopub.status.idle": "2022-03-26T04:05:49.746538Z",
     "shell.execute_reply": "2022-03-26T04:05:49.747007Z",
     "shell.execute_reply.started": "2022-03-26T03:48:18.101617Z"
    },
    "papermill": {
     "duration": 0.078851,
     "end_time": "2022-03-26T04:05:49.747266",
     "exception": false,
     "start_time": "2022-03-26T04:05:49.668415",
     "status": "completed"
    },
    "tags": []
   },
   "outputs": [
    {
     "name": "stdout",
     "output_type": "stream",
     "text": [
      "/kaggle/input/dataset-bbri-2022/BBRI.JK220322.csv\n",
      "/kaggle/input/dataset-jkse-and-bbri-2022/JKSE220322.csv\n"
     ]
    }
   ],
   "source": [
    "# This Python 3 environment comes with many helpful analytics libraries installed\n",
    "# It is defined by the kaggle/python Docker image: https://github.com/kaggle/docker-python\n",
    "# For example, here's several helpful packages to load\n",
    "\n",
    "import numpy as np # linear algebra\n",
    "import pandas as pd # data processing, CSV file I/O (e.g. pd.read_csv)\n",
    "\n",
    "# Input data files are available in the read-only \"../input/\" directory\n",
    "# For example, running this (by clicking run or pressing Shift+Enter) will list all files under the input directory\n",
    "\n",
    "import os\n",
    "for dirname, _, filenames in os.walk('/kaggle/input'):\n",
    "    for filename in filenames:\n",
    "        print(os.path.join(dirname, filename))\n",
    "\n",
    "# You can write up to 20GB to the current directory (/kaggle/working/) that gets preserved as output when you create a version using \"Save & Run All\" \n",
    "# You can also write temporary files to /kaggle/temp/, but they won't be saved outside of the current session"
   ]
  },
  {
   "cell_type": "markdown",
   "id": "01d2c218",
   "metadata": {
    "papermill": {
     "duration": 0.02921,
     "end_time": "2022-03-26T04:05:49.808040",
     "exception": false,
     "start_time": "2022-03-26T04:05:49.778830",
     "status": "completed"
    },
    "tags": []
   },
   "source": [
    "***\n",
    "# Overview\n",
    "***"
   ]
  },
  {
   "cell_type": "markdown",
   "id": "b4127770",
   "metadata": {
    "papermill": {
     "duration": 0.030185,
     "end_time": "2022-03-26T04:05:49.868183",
     "exception": false,
     "start_time": "2022-03-26T04:05:49.837998",
     "status": "completed"
    },
    "tags": []
   },
   "source": [
    "In this notebook, we are going to explore the BRI Stock rates, and JKSE (Jakarta Stock Exchange) , from Yahoo! Finance dataset,and we'll apply  Linear Regression model to see the effect of closing on BBRI in JKSE."
   ]
  },
  {
   "cell_type": "markdown",
   "id": "3c722af5",
   "metadata": {
    "papermill": {
     "duration": 0.029306,
     "end_time": "2022-03-26T04:05:49.927282",
     "exception": false,
     "start_time": "2022-03-26T04:05:49.897976",
     "status": "completed"
    },
    "tags": []
   },
   "source": [
    "***\n",
    "# Libraries\n",
    "***"
   ]
  },
  {
   "cell_type": "markdown",
   "id": "4027c1ed",
   "metadata": {
    "papermill": {
     "duration": 0.030227,
     "end_time": "2022-03-26T04:05:49.987290",
     "exception": false,
     "start_time": "2022-03-26T04:05:49.957063",
     "status": "completed"
    },
    "tags": []
   },
   "source": [
    "Import needed common libraries"
   ]
  },
  {
   "cell_type": "code",
   "execution_count": 2,
   "id": "5b7f95fd",
   "metadata": {
    "execution": {
     "iopub.execute_input": "2022-03-26T04:05:50.053651Z",
     "iopub.status.busy": "2022-03-26T04:05:50.053174Z",
     "iopub.status.idle": "2022-03-26T04:05:51.261087Z",
     "shell.execute_reply": "2022-03-26T04:05:51.261498Z",
     "shell.execute_reply.started": "2022-03-26T03:48:18.172020Z"
    },
    "papermill": {
     "duration": 1.243308,
     "end_time": "2022-03-26T04:05:51.261788",
     "exception": false,
     "start_time": "2022-03-26T04:05:50.018480",
     "status": "completed"
    },
    "tags": []
   },
   "outputs": [],
   "source": [
    "import numpy as np\n",
    "import pandas as pd\n",
    "import seaborn as sns"
   ]
  },
  {
   "cell_type": "markdown",
   "id": "708f758d",
   "metadata": {
    "papermill": {
     "duration": 0.048971,
     "end_time": "2022-03-26T04:05:51.348485",
     "exception": false,
     "start_time": "2022-03-26T04:05:51.299514",
     "status": "completed"
    },
    "tags": []
   },
   "source": [
    "***\n",
    "# Data Understanding\n",
    "***"
   ]
  },
  {
   "cell_type": "markdown",
   "id": "d6a3e685",
   "metadata": {
    "papermill": {
     "duration": 0.046273,
     "end_time": "2022-03-26T04:05:51.442715",
     "exception": false,
     "start_time": "2022-03-26T04:05:51.396442",
     "status": "completed"
    },
    "tags": []
   },
   "source": [
    "I used is JKSE and BBRI Stocks for 1 year (monthly) starting from March 2021 to March 2022 for the dataset, from Yahoo Finance\n",
    "* [JKSE historical data stock march 2021 - march 2022](https://finance.yahoo.com/quote/%5EJKSE/history?p=%5EJKSE)\n",
    "* [JKSE historical data stock march 2021 - march 2022](https://finance.yahoo.com/quote/BBRI.JK/history?p=BBRI.JK)\n"
   ]
  },
  {
   "cell_type": "markdown",
   "id": "b72c5a1c",
   "metadata": {
    "papermill": {
     "duration": 0.047261,
     "end_time": "2022-03-26T04:05:51.537778",
     "exception": false,
     "start_time": "2022-03-26T04:05:51.490517",
     "status": "completed"
    },
    "tags": []
   },
   "source": [
    "Read data. Between The Jakarta Composite Index and BBRI in one year"
   ]
  },
  {
   "cell_type": "markdown",
   "id": "0e0be6b1",
   "metadata": {
    "papermill": {
     "duration": 0.047294,
     "end_time": "2022-03-26T04:05:51.632652",
     "exception": false,
     "start_time": "2022-03-26T04:05:51.585358",
     "status": "completed"
    },
    "tags": []
   },
   "source": [
    "# JKSE Data Load"
   ]
  },
  {
   "cell_type": "code",
   "execution_count": 3,
   "id": "53b9dd79",
   "metadata": {
    "execution": {
     "iopub.execute_input": "2022-03-26T04:05:51.730027Z",
     "iopub.status.busy": "2022-03-26T04:05:51.729338Z",
     "iopub.status.idle": "2022-03-26T04:05:51.763374Z",
     "shell.execute_reply": "2022-03-26T04:05:51.763939Z",
     "shell.execute_reply.started": "2022-03-26T03:48:18.271124Z"
    },
    "papermill": {
     "duration": 0.084553,
     "end_time": "2022-03-26T04:05:51.764128",
     "exception": false,
     "start_time": "2022-03-26T04:05:51.679575",
     "status": "completed"
    },
    "tags": []
   },
   "outputs": [
    {
     "name": "stdout",
     "output_type": "stream",
     "text": [
      "<class 'pandas.core.frame.DataFrame'>\n",
      "RangeIndex: 13 entries, 0 to 12\n",
      "Data columns (total 7 columns):\n",
      " #   Column     Non-Null Count  Dtype  \n",
      "---  ------     --------------  -----  \n",
      " 0   Date       13 non-null     object \n",
      " 1   Open       13 non-null     float64\n",
      " 2   High       13 non-null     float64\n",
      " 3   Low        13 non-null     float64\n",
      " 4   Close      13 non-null     float64\n",
      " 5   Adj Close  13 non-null     float64\n",
      " 6   Volume     13 non-null     int64  \n",
      "dtypes: float64(5), int64(1), object(1)\n",
      "memory usage: 856.0+ bytes\n"
     ]
    }
   ],
   "source": [
    "jkse = pd.read_csv('../input/dataset-jkse-and-bbri-2022/JKSE220322.csv')\n",
    "jkse.info()"
   ]
  },
  {
   "cell_type": "code",
   "execution_count": 4,
   "id": "679d0344",
   "metadata": {
    "execution": {
     "iopub.execute_input": "2022-03-26T04:05:51.864015Z",
     "iopub.status.busy": "2022-03-26T04:05:51.863366Z",
     "iopub.status.idle": "2022-03-26T04:05:51.884570Z",
     "shell.execute_reply": "2022-03-26T04:05:51.885172Z",
     "shell.execute_reply.started": "2022-03-26T03:48:18.385089Z"
    },
    "papermill": {
     "duration": 0.0731,
     "end_time": "2022-03-26T04:05:51.885355",
     "exception": false,
     "start_time": "2022-03-26T04:05:51.812255",
     "status": "completed"
    },
    "tags": []
   },
   "outputs": [
    {
     "data": {
      "text/html": [
       "<div>\n",
       "<style scoped>\n",
       "    .dataframe tbody tr th:only-of-type {\n",
       "        vertical-align: middle;\n",
       "    }\n",
       "\n",
       "    .dataframe tbody tr th {\n",
       "        vertical-align: top;\n",
       "    }\n",
       "\n",
       "    .dataframe thead th {\n",
       "        text-align: right;\n",
       "    }\n",
       "</style>\n",
       "<table border=\"1\" class=\"dataframe\">\n",
       "  <thead>\n",
       "    <tr style=\"text-align: right;\">\n",
       "      <th></th>\n",
       "      <th>Date</th>\n",
       "      <th>Open</th>\n",
       "      <th>High</th>\n",
       "      <th>Low</th>\n",
       "      <th>Close</th>\n",
       "      <th>Adj Close</th>\n",
       "      <th>Volume</th>\n",
       "    </tr>\n",
       "  </thead>\n",
       "  <tbody>\n",
       "    <tr>\n",
       "      <th>0</th>\n",
       "      <td>2021-04-01</td>\n",
       "      <td>5988.022949</td>\n",
       "      <td>6115.620117</td>\n",
       "      <td>5883.523926</td>\n",
       "      <td>5995.616211</td>\n",
       "      <td>5995.616211</td>\n",
       "      <td>2813253600</td>\n",
       "    </tr>\n",
       "    <tr>\n",
       "      <th>1</th>\n",
       "      <td>2021-05-01</td>\n",
       "      <td>5999.661133</td>\n",
       "      <td>6005.087891</td>\n",
       "      <td>5742.038086</td>\n",
       "      <td>5947.462891</td>\n",
       "      <td>5947.462891</td>\n",
       "      <td>2453433400</td>\n",
       "    </tr>\n",
       "    <tr>\n",
       "      <th>2</th>\n",
       "      <td>2021-06-01</td>\n",
       "      <td>6002.480957</td>\n",
       "      <td>6134.881836</td>\n",
       "      <td>5884.917969</td>\n",
       "      <td>5985.488770</td>\n",
       "      <td>5985.488770</td>\n",
       "      <td>3980614000</td>\n",
       "    </tr>\n",
       "    <tr>\n",
       "      <th>3</th>\n",
       "      <td>2021-07-01</td>\n",
       "      <td>6001.121094</td>\n",
       "      <td>6166.305176</td>\n",
       "      <td>5947.618164</td>\n",
       "      <td>6070.039063</td>\n",
       "      <td>6070.039063</td>\n",
       "      <td>3225744000</td>\n",
       "    </tr>\n",
       "    <tr>\n",
       "      <th>4</th>\n",
       "      <td>2021-08-01</td>\n",
       "      <td>6098.007813</td>\n",
       "      <td>6263.539063</td>\n",
       "      <td>5938.407227</td>\n",
       "      <td>6150.298828</td>\n",
       "      <td>6150.298828</td>\n",
       "      <td>4218994600</td>\n",
       "    </tr>\n",
       "    <tr>\n",
       "      <th>5</th>\n",
       "      <td>2021-09-01</td>\n",
       "      <td>6157.820801</td>\n",
       "      <td>6286.942871</td>\n",
       "      <td>5982.766113</td>\n",
       "      <td>6286.942871</td>\n",
       "      <td>6286.942871</td>\n",
       "      <td>4359649400</td>\n",
       "    </tr>\n",
       "    <tr>\n",
       "      <th>6</th>\n",
       "      <td>2021-10-01</td>\n",
       "      <td>6269.237793</td>\n",
       "      <td>6687.133789</td>\n",
       "      <td>6202.905762</td>\n",
       "      <td>6591.346191</td>\n",
       "      <td>6591.346191</td>\n",
       "      <td>3960713500</td>\n",
       "    </tr>\n",
       "    <tr>\n",
       "      <th>7</th>\n",
       "      <td>2021-11-01</td>\n",
       "      <td>6618.122070</td>\n",
       "      <td>6754.463867</td>\n",
       "      <td>6480.009766</td>\n",
       "      <td>6533.932129</td>\n",
       "      <td>6533.932129</td>\n",
       "      <td>4188202600</td>\n",
       "    </tr>\n",
       "    <tr>\n",
       "      <th>8</th>\n",
       "      <td>2021-12-01</td>\n",
       "      <td>6544.517090</td>\n",
       "      <td>6688.378906</td>\n",
       "      <td>6484.578125</td>\n",
       "      <td>6581.481934</td>\n",
       "      <td>6581.481934</td>\n",
       "      <td>4373800600</td>\n",
       "    </tr>\n",
       "    <tr>\n",
       "      <th>9</th>\n",
       "      <td>2022-01-01</td>\n",
       "      <td>6586.259766</td>\n",
       "      <td>6738.109863</td>\n",
       "      <td>6523.929199</td>\n",
       "      <td>6631.150879</td>\n",
       "      <td>6631.150879</td>\n",
       "      <td>3713686800</td>\n",
       "    </tr>\n",
       "    <tr>\n",
       "      <th>10</th>\n",
       "      <td>2022-02-01</td>\n",
       "      <td>6657.791992</td>\n",
       "      <td>6929.911133</td>\n",
       "      <td>6648.078125</td>\n",
       "      <td>6888.170898</td>\n",
       "      <td>6888.170898</td>\n",
       "      <td>4052888600</td>\n",
       "    </tr>\n",
       "    <tr>\n",
       "      <th>11</th>\n",
       "      <td>2022-03-01</td>\n",
       "      <td>6964.696777</td>\n",
       "      <td>7032.702148</td>\n",
       "      <td>6814.183105</td>\n",
       "      <td>6954.964844</td>\n",
       "      <td>6954.964844</td>\n",
       "      <td>2804786900</td>\n",
       "    </tr>\n",
       "    <tr>\n",
       "      <th>12</th>\n",
       "      <td>2022-03-18</td>\n",
       "      <td>6981.262207</td>\n",
       "      <td>7000.587891</td>\n",
       "      <td>6926.414063</td>\n",
       "      <td>6954.964844</td>\n",
       "      <td>6954.964844</td>\n",
       "      <td>0</td>\n",
       "    </tr>\n",
       "  </tbody>\n",
       "</table>\n",
       "</div>"
      ],
      "text/plain": [
       "          Date         Open         High          Low        Close  \\\n",
       "0   2021-04-01  5988.022949  6115.620117  5883.523926  5995.616211   \n",
       "1   2021-05-01  5999.661133  6005.087891  5742.038086  5947.462891   \n",
       "2   2021-06-01  6002.480957  6134.881836  5884.917969  5985.488770   \n",
       "3   2021-07-01  6001.121094  6166.305176  5947.618164  6070.039063   \n",
       "4   2021-08-01  6098.007813  6263.539063  5938.407227  6150.298828   \n",
       "5   2021-09-01  6157.820801  6286.942871  5982.766113  6286.942871   \n",
       "6   2021-10-01  6269.237793  6687.133789  6202.905762  6591.346191   \n",
       "7   2021-11-01  6618.122070  6754.463867  6480.009766  6533.932129   \n",
       "8   2021-12-01  6544.517090  6688.378906  6484.578125  6581.481934   \n",
       "9   2022-01-01  6586.259766  6738.109863  6523.929199  6631.150879   \n",
       "10  2022-02-01  6657.791992  6929.911133  6648.078125  6888.170898   \n",
       "11  2022-03-01  6964.696777  7032.702148  6814.183105  6954.964844   \n",
       "12  2022-03-18  6981.262207  7000.587891  6926.414063  6954.964844   \n",
       "\n",
       "      Adj Close      Volume  \n",
       "0   5995.616211  2813253600  \n",
       "1   5947.462891  2453433400  \n",
       "2   5985.488770  3980614000  \n",
       "3   6070.039063  3225744000  \n",
       "4   6150.298828  4218994600  \n",
       "5   6286.942871  4359649400  \n",
       "6   6591.346191  3960713500  \n",
       "7   6533.932129  4188202600  \n",
       "8   6581.481934  4373800600  \n",
       "9   6631.150879  3713686800  \n",
       "10  6888.170898  4052888600  \n",
       "11  6954.964844  2804786900  \n",
       "12  6954.964844           0  "
      ]
     },
     "metadata": {},
     "output_type": "display_data"
    }
   ],
   "source": [
    "display(jkse)"
   ]
  },
  {
   "cell_type": "code",
   "execution_count": 5,
   "id": "f39494a7",
   "metadata": {
    "execution": {
     "iopub.execute_input": "2022-03-26T04:05:51.986439Z",
     "iopub.status.busy": "2022-03-26T04:05:51.985810Z",
     "iopub.status.idle": "2022-03-26T04:05:51.990249Z",
     "shell.execute_reply": "2022-03-26T04:05:51.991164Z",
     "shell.execute_reply.started": "2022-03-26T03:48:18.469841Z"
    },
    "papermill": {
     "duration": 0.057352,
     "end_time": "2022-03-26T04:05:51.991445",
     "exception": false,
     "start_time": "2022-03-26T04:05:51.934093",
     "status": "completed"
    },
    "tags": []
   },
   "outputs": [
    {
     "name": "stdout",
     "output_type": "stream",
     "text": [
      "(13, 7)\n"
     ]
    }
   ],
   "source": [
    "print(jkse.shape)"
   ]
  },
  {
   "cell_type": "markdown",
   "id": "cedb46ab",
   "metadata": {
    "papermill": {
     "duration": 0.049642,
     "end_time": "2022-03-26T04:05:52.091790",
     "exception": false,
     "start_time": "2022-03-26T04:05:52.042148",
     "status": "completed"
    },
    "tags": []
   },
   "source": [
    "This means that our dataset has 13 rows and 7 columns."
   ]
  },
  {
   "cell_type": "code",
   "execution_count": 6,
   "id": "7cc41d78",
   "metadata": {
    "execution": {
     "iopub.execute_input": "2022-03-26T04:05:52.196431Z",
     "iopub.status.busy": "2022-03-26T04:05:52.195812Z",
     "iopub.status.idle": "2022-03-26T04:05:52.207547Z",
     "shell.execute_reply": "2022-03-26T04:05:52.208259Z",
     "shell.execute_reply.started": "2022-03-26T03:48:18.549940Z"
    },
    "papermill": {
     "duration": 0.066201,
     "end_time": "2022-03-26T04:05:52.208433",
     "exception": false,
     "start_time": "2022-03-26T04:05:52.142232",
     "status": "completed"
    },
    "tags": []
   },
   "outputs": [
    {
     "name": "stdout",
     "output_type": "stream",
     "text": [
      "<class 'pandas.core.frame.DataFrame'>\n",
      "RangeIndex: 13 entries, 0 to 12\n",
      "Data columns (total 7 columns):\n",
      " #   Column     Non-Null Count  Dtype  \n",
      "---  ------     --------------  -----  \n",
      " 0   Date       13 non-null     object \n",
      " 1   Open       13 non-null     float64\n",
      " 2   High       13 non-null     float64\n",
      " 3   Low        13 non-null     float64\n",
      " 4   Close      13 non-null     float64\n",
      " 5   Adj Close  13 non-null     float64\n",
      " 6   Volume     13 non-null     int64  \n",
      "dtypes: float64(5), int64(1), object(1)\n",
      "memory usage: 856.0+ bytes\n",
      "None\n"
     ]
    }
   ],
   "source": [
    "print(jkse.info()) "
   ]
  },
  {
   "cell_type": "markdown",
   "id": "dc1e666d",
   "metadata": {
    "papermill": {
     "duration": 0.050311,
     "end_time": "2022-03-26T04:05:52.309703",
     "exception": false,
     "start_time": "2022-03-26T04:05:52.259392",
     "status": "completed"
    },
    "tags": []
   },
   "source": [
    "This means that our dataset has 13 rows and 1 columns."
   ]
  },
  {
   "cell_type": "markdown",
   "id": "28e2c249",
   "metadata": {
    "papermill": {
     "duration": 0.050038,
     "end_time": "2022-03-26T04:05:52.409030",
     "exception": false,
     "start_time": "2022-03-26T04:05:52.358992",
     "status": "completed"
    },
    "tags": []
   },
   "source": [
    "# BBRI Data Load"
   ]
  },
  {
   "cell_type": "code",
   "execution_count": 7,
   "id": "a445142f",
   "metadata": {
    "execution": {
     "iopub.execute_input": "2022-03-26T04:05:52.512290Z",
     "iopub.status.busy": "2022-03-26T04:05:52.511659Z",
     "iopub.status.idle": "2022-03-26T04:05:52.529295Z",
     "shell.execute_reply": "2022-03-26T04:05:52.529852Z",
     "shell.execute_reply.started": "2022-03-26T03:48:18.603655Z"
    },
    "papermill": {
     "duration": 0.071552,
     "end_time": "2022-03-26T04:05:52.530017",
     "exception": false,
     "start_time": "2022-03-26T04:05:52.458465",
     "status": "completed"
    },
    "tags": []
   },
   "outputs": [
    {
     "name": "stdout",
     "output_type": "stream",
     "text": [
      "<class 'pandas.core.frame.DataFrame'>\n",
      "RangeIndex: 13 entries, 0 to 12\n",
      "Data columns (total 7 columns):\n",
      " #   Column     Non-Null Count  Dtype  \n",
      "---  ------     --------------  -----  \n",
      " 0   Date       13 non-null     object \n",
      " 1   Open       13 non-null     float64\n",
      " 2   High       13 non-null     float64\n",
      " 3   Low        13 non-null     float64\n",
      " 4   Close      13 non-null     float64\n",
      " 5   Adj Close  13 non-null     float64\n",
      " 6   Volume     13 non-null     int64  \n",
      "dtypes: float64(5), int64(1), object(1)\n",
      "memory usage: 856.0+ bytes\n"
     ]
    }
   ],
   "source": [
    "bbri = pd.read_csv('../input/dataset-bbri-2022/BBRI.JK220322.csv')\n",
    "bbri.info()"
   ]
  },
  {
   "cell_type": "code",
   "execution_count": 8,
   "id": "56ec98cb",
   "metadata": {
    "execution": {
     "iopub.execute_input": "2022-03-26T04:05:52.641857Z",
     "iopub.status.busy": "2022-03-26T04:05:52.641163Z",
     "iopub.status.idle": "2022-03-26T04:05:52.649884Z",
     "shell.execute_reply": "2022-03-26T04:05:52.650539Z",
     "shell.execute_reply.started": "2022-03-26T03:48:18.655114Z"
    },
    "papermill": {
     "duration": 0.070163,
     "end_time": "2022-03-26T04:05:52.650741",
     "exception": false,
     "start_time": "2022-03-26T04:05:52.580578",
     "status": "completed"
    },
    "tags": []
   },
   "outputs": [
    {
     "data": {
      "text/html": [
       "<div>\n",
       "<style scoped>\n",
       "    .dataframe tbody tr th:only-of-type {\n",
       "        vertical-align: middle;\n",
       "    }\n",
       "\n",
       "    .dataframe tbody tr th {\n",
       "        vertical-align: top;\n",
       "    }\n",
       "\n",
       "    .dataframe thead th {\n",
       "        text-align: right;\n",
       "    }\n",
       "</style>\n",
       "<table border=\"1\" class=\"dataframe\">\n",
       "  <thead>\n",
       "    <tr style=\"text-align: right;\">\n",
       "      <th></th>\n",
       "      <th>Date</th>\n",
       "      <th>Open</th>\n",
       "      <th>High</th>\n",
       "      <th>Low</th>\n",
       "      <th>Close</th>\n",
       "      <th>Adj Close</th>\n",
       "      <th>Volume</th>\n",
       "    </tr>\n",
       "  </thead>\n",
       "  <tbody>\n",
       "    <tr>\n",
       "      <th>0</th>\n",
       "      <td>2021-04-01</td>\n",
       "      <td>4350.000000</td>\n",
       "      <td>4460.0</td>\n",
       "      <td>4050.000000</td>\n",
       "      <td>4050.000000</td>\n",
       "      <td>3812.179932</td>\n",
       "      <td>2752110600</td>\n",
       "    </tr>\n",
       "    <tr>\n",
       "      <th>1</th>\n",
       "      <td>2021-05-01</td>\n",
       "      <td>4060.000000</td>\n",
       "      <td>4280.0</td>\n",
       "      <td>3820.000000</td>\n",
       "      <td>4260.000000</td>\n",
       "      <td>4097.568359</td>\n",
       "      <td>2769409500</td>\n",
       "    </tr>\n",
       "    <tr>\n",
       "      <th>2</th>\n",
       "      <td>2021-06-01</td>\n",
       "      <td>4350.000000</td>\n",
       "      <td>4390.0</td>\n",
       "      <td>3860.000000</td>\n",
       "      <td>3940.000000</td>\n",
       "      <td>3789.770020</td>\n",
       "      <td>3325217700</td>\n",
       "    </tr>\n",
       "    <tr>\n",
       "      <th>3</th>\n",
       "      <td>2021-07-01</td>\n",
       "      <td>3940.000000</td>\n",
       "      <td>4030.0</td>\n",
       "      <td>3700.000000</td>\n",
       "      <td>3710.000000</td>\n",
       "      <td>3568.539795</td>\n",
       "      <td>2132270600</td>\n",
       "    </tr>\n",
       "    <tr>\n",
       "      <th>4</th>\n",
       "      <td>2021-08-01</td>\n",
       "      <td>3770.000000</td>\n",
       "      <td>4090.0</td>\n",
       "      <td>3481.758057</td>\n",
       "      <td>3572.665527</td>\n",
       "      <td>3436.441650</td>\n",
       "      <td>2290574201</td>\n",
       "    </tr>\n",
       "    <tr>\n",
       "      <th>5</th>\n",
       "      <td>2021-09-01</td>\n",
       "      <td>3572.665527</td>\n",
       "      <td>3880.0</td>\n",
       "      <td>3463.576416</td>\n",
       "      <td>3850.000000</td>\n",
       "      <td>3703.201660</td>\n",
       "      <td>6073477827</td>\n",
       "    </tr>\n",
       "    <tr>\n",
       "      <th>6</th>\n",
       "      <td>2021-10-01</td>\n",
       "      <td>3850.000000</td>\n",
       "      <td>4460.0</td>\n",
       "      <td>3830.000000</td>\n",
       "      <td>4250.000000</td>\n",
       "      <td>4087.949951</td>\n",
       "      <td>4745652300</td>\n",
       "    </tr>\n",
       "    <tr>\n",
       "      <th>7</th>\n",
       "      <td>2021-11-01</td>\n",
       "      <td>4330.000000</td>\n",
       "      <td>4340.0</td>\n",
       "      <td>4080.000000</td>\n",
       "      <td>4090.000000</td>\n",
       "      <td>3934.050537</td>\n",
       "      <td>2919948500</td>\n",
       "    </tr>\n",
       "    <tr>\n",
       "      <th>8</th>\n",
       "      <td>2021-12-01</td>\n",
       "      <td>4090.000000</td>\n",
       "      <td>4250.0</td>\n",
       "      <td>4050.000000</td>\n",
       "      <td>4110.000000</td>\n",
       "      <td>3953.288086</td>\n",
       "      <td>2371759500</td>\n",
       "    </tr>\n",
       "    <tr>\n",
       "      <th>9</th>\n",
       "      <td>2022-01-01</td>\n",
       "      <td>4120.000000</td>\n",
       "      <td>4240.0</td>\n",
       "      <td>4000.000000</td>\n",
       "      <td>4070.000000</td>\n",
       "      <td>3914.813232</td>\n",
       "      <td>2155349200</td>\n",
       "    </tr>\n",
       "    <tr>\n",
       "      <th>10</th>\n",
       "      <td>2022-02-01</td>\n",
       "      <td>4120.000000</td>\n",
       "      <td>4550.0</td>\n",
       "      <td>4060.000000</td>\n",
       "      <td>4550.000000</td>\n",
       "      <td>4376.511230</td>\n",
       "      <td>3079276500</td>\n",
       "    </tr>\n",
       "    <tr>\n",
       "      <th>11</th>\n",
       "      <td>2022-03-01</td>\n",
       "      <td>4850.000000</td>\n",
       "      <td>4860.0</td>\n",
       "      <td>4370.000000</td>\n",
       "      <td>4580.000000</td>\n",
       "      <td>4405.367188</td>\n",
       "      <td>3172713900</td>\n",
       "    </tr>\n",
       "    <tr>\n",
       "      <th>12</th>\n",
       "      <td>2022-03-18</td>\n",
       "      <td>4700.000000</td>\n",
       "      <td>4700.0</td>\n",
       "      <td>4580.000000</td>\n",
       "      <td>4580.000000</td>\n",
       "      <td>4580.000000</td>\n",
       "      <td>257863400</td>\n",
       "    </tr>\n",
       "  </tbody>\n",
       "</table>\n",
       "</div>"
      ],
      "text/plain": [
       "          Date         Open    High          Low        Close    Adj Close  \\\n",
       "0   2021-04-01  4350.000000  4460.0  4050.000000  4050.000000  3812.179932   \n",
       "1   2021-05-01  4060.000000  4280.0  3820.000000  4260.000000  4097.568359   \n",
       "2   2021-06-01  4350.000000  4390.0  3860.000000  3940.000000  3789.770020   \n",
       "3   2021-07-01  3940.000000  4030.0  3700.000000  3710.000000  3568.539795   \n",
       "4   2021-08-01  3770.000000  4090.0  3481.758057  3572.665527  3436.441650   \n",
       "5   2021-09-01  3572.665527  3880.0  3463.576416  3850.000000  3703.201660   \n",
       "6   2021-10-01  3850.000000  4460.0  3830.000000  4250.000000  4087.949951   \n",
       "7   2021-11-01  4330.000000  4340.0  4080.000000  4090.000000  3934.050537   \n",
       "8   2021-12-01  4090.000000  4250.0  4050.000000  4110.000000  3953.288086   \n",
       "9   2022-01-01  4120.000000  4240.0  4000.000000  4070.000000  3914.813232   \n",
       "10  2022-02-01  4120.000000  4550.0  4060.000000  4550.000000  4376.511230   \n",
       "11  2022-03-01  4850.000000  4860.0  4370.000000  4580.000000  4405.367188   \n",
       "12  2022-03-18  4700.000000  4700.0  4580.000000  4580.000000  4580.000000   \n",
       "\n",
       "        Volume  \n",
       "0   2752110600  \n",
       "1   2769409500  \n",
       "2   3325217700  \n",
       "3   2132270600  \n",
       "4   2290574201  \n",
       "5   6073477827  \n",
       "6   4745652300  \n",
       "7   2919948500  \n",
       "8   2371759500  \n",
       "9   2155349200  \n",
       "10  3079276500  \n",
       "11  3172713900  \n",
       "12   257863400  "
      ]
     },
     "metadata": {},
     "output_type": "display_data"
    }
   ],
   "source": [
    "display(bbri)"
   ]
  },
  {
   "cell_type": "code",
   "execution_count": 9,
   "id": "da341129",
   "metadata": {
    "execution": {
     "iopub.execute_input": "2022-03-26T04:05:52.756469Z",
     "iopub.status.busy": "2022-03-26T04:05:52.755833Z",
     "iopub.status.idle": "2022-03-26T04:05:52.760182Z",
     "shell.execute_reply": "2022-03-26T04:05:52.760743Z",
     "shell.execute_reply.started": "2022-03-26T03:48:18.694178Z"
    },
    "papermill": {
     "duration": 0.059098,
     "end_time": "2022-03-26T04:05:52.760900",
     "exception": false,
     "start_time": "2022-03-26T04:05:52.701802",
     "status": "completed"
    },
    "tags": []
   },
   "outputs": [
    {
     "name": "stdout",
     "output_type": "stream",
     "text": [
      "(13, 7)\n"
     ]
    }
   ],
   "source": [
    "print(bbri.shape)"
   ]
  },
  {
   "cell_type": "code",
   "execution_count": 10,
   "id": "7376b21a",
   "metadata": {
    "execution": {
     "iopub.execute_input": "2022-03-26T04:05:52.875933Z",
     "iopub.status.busy": "2022-03-26T04:05:52.875239Z",
     "iopub.status.idle": "2022-03-26T04:05:52.878051Z",
     "shell.execute_reply": "2022-03-26T04:05:52.878700Z",
     "shell.execute_reply.started": "2022-03-26T03:48:18.724207Z"
    },
    "papermill": {
     "duration": 0.065839,
     "end_time": "2022-03-26T04:05:52.878862",
     "exception": false,
     "start_time": "2022-03-26T04:05:52.813023",
     "status": "completed"
    },
    "tags": []
   },
   "outputs": [
    {
     "name": "stdout",
     "output_type": "stream",
     "text": [
      "<class 'pandas.core.frame.DataFrame'>\n",
      "RangeIndex: 13 entries, 0 to 12\n",
      "Data columns (total 7 columns):\n",
      " #   Column     Non-Null Count  Dtype  \n",
      "---  ------     --------------  -----  \n",
      " 0   Date       13 non-null     object \n",
      " 1   Open       13 non-null     float64\n",
      " 2   High       13 non-null     float64\n",
      " 3   Low        13 non-null     float64\n",
      " 4   Close      13 non-null     float64\n",
      " 5   Adj Close  13 non-null     float64\n",
      " 6   Volume     13 non-null     int64  \n",
      "dtypes: float64(5), int64(1), object(1)\n",
      "memory usage: 856.0+ bytes\n",
      "None\n"
     ]
    }
   ],
   "source": [
    "print(jkse.info()) "
   ]
  },
  {
   "cell_type": "markdown",
   "id": "4ab2ba8d",
   "metadata": {
    "papermill": {
     "duration": 0.034184,
     "end_time": "2022-03-26T04:05:52.949264",
     "exception": false,
     "start_time": "2022-03-26T04:05:52.915080",
     "status": "completed"
    },
    "tags": []
   },
   "source": [
    "***\n",
    "# Data Preparation\n",
    "***"
   ]
  },
  {
   "cell_type": "markdown",
   "id": "fad2674d",
   "metadata": {
    "papermill": {
     "duration": 0.034416,
     "end_time": "2022-03-26T04:05:53.017741",
     "exception": false,
     "start_time": "2022-03-26T04:05:52.983325",
     "status": "completed"
    },
    "tags": []
   },
   "source": [
    "from each dataset, we will take 1 **closing** table / column on JKSE and BBRI to determine the independent and dependent variables"
   ]
  },
  {
   "cell_type": "markdown",
   "id": "c874ccb0",
   "metadata": {
    "papermill": {
     "duration": 0.034044,
     "end_time": "2022-03-26T04:05:53.085859",
     "exception": false,
     "start_time": "2022-03-26T04:05:53.051815",
     "status": "completed"
    },
    "tags": []
   },
   "source": [
    "# JKSE Data Closing"
   ]
  },
  {
   "cell_type": "code",
   "execution_count": 11,
   "id": "aa563281",
   "metadata": {
    "execution": {
     "iopub.execute_input": "2022-03-26T04:05:53.159660Z",
     "iopub.status.busy": "2022-03-26T04:05:53.157494Z",
     "iopub.status.idle": "2022-03-26T04:05:53.171786Z",
     "shell.execute_reply": "2022-03-26T04:05:53.172286Z",
     "shell.execute_reply.started": "2022-03-26T03:48:18.767186Z"
    },
    "papermill": {
     "duration": 0.052216,
     "end_time": "2022-03-26T04:05:53.172468",
     "exception": false,
     "start_time": "2022-03-26T04:05:53.120252",
     "status": "completed"
    },
    "tags": []
   },
   "outputs": [
    {
     "data": {
      "text/html": [
       "<div>\n",
       "<style scoped>\n",
       "    .dataframe tbody tr th:only-of-type {\n",
       "        vertical-align: middle;\n",
       "    }\n",
       "\n",
       "    .dataframe tbody tr th {\n",
       "        vertical-align: top;\n",
       "    }\n",
       "\n",
       "    .dataframe thead th {\n",
       "        text-align: right;\n",
       "    }\n",
       "</style>\n",
       "<table border=\"1\" class=\"dataframe\">\n",
       "  <thead>\n",
       "    <tr style=\"text-align: right;\">\n",
       "      <th></th>\n",
       "      <th>JKSE</th>\n",
       "    </tr>\n",
       "  </thead>\n",
       "  <tbody>\n",
       "    <tr>\n",
       "      <th>0</th>\n",
       "      <td>5995.616211</td>\n",
       "    </tr>\n",
       "    <tr>\n",
       "      <th>1</th>\n",
       "      <td>5947.462891</td>\n",
       "    </tr>\n",
       "    <tr>\n",
       "      <th>2</th>\n",
       "      <td>5985.488770</td>\n",
       "    </tr>\n",
       "    <tr>\n",
       "      <th>3</th>\n",
       "      <td>6070.039063</td>\n",
       "    </tr>\n",
       "    <tr>\n",
       "      <th>4</th>\n",
       "      <td>6150.298828</td>\n",
       "    </tr>\n",
       "    <tr>\n",
       "      <th>5</th>\n",
       "      <td>6286.942871</td>\n",
       "    </tr>\n",
       "    <tr>\n",
       "      <th>6</th>\n",
       "      <td>6591.346191</td>\n",
       "    </tr>\n",
       "    <tr>\n",
       "      <th>7</th>\n",
       "      <td>6533.932129</td>\n",
       "    </tr>\n",
       "    <tr>\n",
       "      <th>8</th>\n",
       "      <td>6581.481934</td>\n",
       "    </tr>\n",
       "    <tr>\n",
       "      <th>9</th>\n",
       "      <td>6631.150879</td>\n",
       "    </tr>\n",
       "    <tr>\n",
       "      <th>10</th>\n",
       "      <td>6888.170898</td>\n",
       "    </tr>\n",
       "    <tr>\n",
       "      <th>11</th>\n",
       "      <td>6954.964844</td>\n",
       "    </tr>\n",
       "    <tr>\n",
       "      <th>12</th>\n",
       "      <td>6954.964844</td>\n",
       "    </tr>\n",
       "  </tbody>\n",
       "</table>\n",
       "</div>"
      ],
      "text/plain": [
       "           JKSE\n",
       "0   5995.616211\n",
       "1   5947.462891\n",
       "2   5985.488770\n",
       "3   6070.039063\n",
       "4   6150.298828\n",
       "5   6286.942871\n",
       "6   6591.346191\n",
       "7   6533.932129\n",
       "8   6581.481934\n",
       "9   6631.150879\n",
       "10  6888.170898\n",
       "11  6954.964844\n",
       "12  6954.964844"
      ]
     },
     "metadata": {},
     "output_type": "display_data"
    }
   ],
   "source": [
    "jkse_closing = pd.read_csv('../input/dataset-jkse-and-bbri-2022/JKSE220322.csv', usecols =['Close'])\n",
    "jkse = jkse_closing.rename(columns={'Close': 'JKSE'})\n",
    "display(jkse)"
   ]
  },
  {
   "cell_type": "markdown",
   "id": "73d61bad",
   "metadata": {
    "papermill": {
     "duration": 0.054866,
     "end_time": "2022-03-26T04:05:53.282821",
     "exception": false,
     "start_time": "2022-03-26T04:05:53.227955",
     "status": "completed"
    },
    "tags": []
   },
   "source": [
    "# BBRI Data Closing"
   ]
  },
  {
   "cell_type": "code",
   "execution_count": 12,
   "id": "ae75a742",
   "metadata": {
    "execution": {
     "iopub.execute_input": "2022-03-26T04:05:53.395258Z",
     "iopub.status.busy": "2022-03-26T04:05:53.394400Z",
     "iopub.status.idle": "2022-03-26T04:05:53.404162Z",
     "shell.execute_reply": "2022-03-26T04:05:53.404616Z",
     "shell.execute_reply.started": "2022-03-26T03:48:18.803683Z"
    },
    "papermill": {
     "duration": 0.067579,
     "end_time": "2022-03-26T04:05:53.404804",
     "exception": false,
     "start_time": "2022-03-26T04:05:53.337225",
     "status": "completed"
    },
    "tags": []
   },
   "outputs": [
    {
     "data": {
      "text/html": [
       "<div>\n",
       "<style scoped>\n",
       "    .dataframe tbody tr th:only-of-type {\n",
       "        vertical-align: middle;\n",
       "    }\n",
       "\n",
       "    .dataframe tbody tr th {\n",
       "        vertical-align: top;\n",
       "    }\n",
       "\n",
       "    .dataframe thead th {\n",
       "        text-align: right;\n",
       "    }\n",
       "</style>\n",
       "<table border=\"1\" class=\"dataframe\">\n",
       "  <thead>\n",
       "    <tr style=\"text-align: right;\">\n",
       "      <th></th>\n",
       "      <th>BBRI</th>\n",
       "    </tr>\n",
       "  </thead>\n",
       "  <tbody>\n",
       "    <tr>\n",
       "      <th>0</th>\n",
       "      <td>4050.000000</td>\n",
       "    </tr>\n",
       "    <tr>\n",
       "      <th>1</th>\n",
       "      <td>4260.000000</td>\n",
       "    </tr>\n",
       "    <tr>\n",
       "      <th>2</th>\n",
       "      <td>3940.000000</td>\n",
       "    </tr>\n",
       "    <tr>\n",
       "      <th>3</th>\n",
       "      <td>3710.000000</td>\n",
       "    </tr>\n",
       "    <tr>\n",
       "      <th>4</th>\n",
       "      <td>3572.665527</td>\n",
       "    </tr>\n",
       "    <tr>\n",
       "      <th>5</th>\n",
       "      <td>3850.000000</td>\n",
       "    </tr>\n",
       "    <tr>\n",
       "      <th>6</th>\n",
       "      <td>4250.000000</td>\n",
       "    </tr>\n",
       "    <tr>\n",
       "      <th>7</th>\n",
       "      <td>4090.000000</td>\n",
       "    </tr>\n",
       "    <tr>\n",
       "      <th>8</th>\n",
       "      <td>4110.000000</td>\n",
       "    </tr>\n",
       "    <tr>\n",
       "      <th>9</th>\n",
       "      <td>4070.000000</td>\n",
       "    </tr>\n",
       "    <tr>\n",
       "      <th>10</th>\n",
       "      <td>4550.000000</td>\n",
       "    </tr>\n",
       "    <tr>\n",
       "      <th>11</th>\n",
       "      <td>4580.000000</td>\n",
       "    </tr>\n",
       "    <tr>\n",
       "      <th>12</th>\n",
       "      <td>4580.000000</td>\n",
       "    </tr>\n",
       "  </tbody>\n",
       "</table>\n",
       "</div>"
      ],
      "text/plain": [
       "           BBRI\n",
       "0   4050.000000\n",
       "1   4260.000000\n",
       "2   3940.000000\n",
       "3   3710.000000\n",
       "4   3572.665527\n",
       "5   3850.000000\n",
       "6   4250.000000\n",
       "7   4090.000000\n",
       "8   4110.000000\n",
       "9   4070.000000\n",
       "10  4550.000000\n",
       "11  4580.000000\n",
       "12  4580.000000"
      ]
     },
     "metadata": {},
     "output_type": "display_data"
    }
   ],
   "source": [
    "bbri_closing = pd.read_csv('../input/dataset-bbri-2022/BBRI.JK220322.csv', usecols =['Close'])\n",
    "bbri = bbri_closing.rename(columns={'Close': 'BBRI'})\n",
    "display(bbri)"
   ]
  },
  {
   "cell_type": "markdown",
   "id": "00c517be",
   "metadata": {
    "papermill": {
     "duration": 0.053532,
     "end_time": "2022-03-26T04:05:53.512093",
     "exception": false,
     "start_time": "2022-03-26T04:05:53.458561",
     "status": "completed"
    },
    "tags": []
   },
   "source": [
    "# Merging Data "
   ]
  },
  {
   "cell_type": "markdown",
   "id": "9f41b1ad",
   "metadata": {
    "papermill": {
     "duration": 0.053936,
     "end_time": "2022-03-26T04:05:53.621351",
     "exception": false,
     "start_time": "2022-03-26T04:05:53.567415",
     "status": "completed"
    },
    "tags": []
   },
   "source": [
    "Merge data JKSE and BBRI into 1 table"
   ]
  },
  {
   "cell_type": "code",
   "execution_count": 13,
   "id": "aaebd26f",
   "metadata": {
    "execution": {
     "iopub.execute_input": "2022-03-26T04:05:53.740080Z",
     "iopub.status.busy": "2022-03-26T04:05:53.739393Z",
     "iopub.status.idle": "2022-03-26T04:05:53.748144Z",
     "shell.execute_reply": "2022-03-26T04:05:53.748670Z",
     "shell.execute_reply.started": "2022-03-26T03:48:18.826960Z"
    },
    "papermill": {
     "duration": 0.072793,
     "end_time": "2022-03-26T04:05:53.748829",
     "exception": false,
     "start_time": "2022-03-26T04:05:53.676036",
     "status": "completed"
    },
    "tags": []
   },
   "outputs": [
    {
     "data": {
      "text/html": [
       "<div>\n",
       "<style scoped>\n",
       "    .dataframe tbody tr th:only-of-type {\n",
       "        vertical-align: middle;\n",
       "    }\n",
       "\n",
       "    .dataframe tbody tr th {\n",
       "        vertical-align: top;\n",
       "    }\n",
       "\n",
       "    .dataframe thead th {\n",
       "        text-align: right;\n",
       "    }\n",
       "</style>\n",
       "<table border=\"1\" class=\"dataframe\">\n",
       "  <thead>\n",
       "    <tr style=\"text-align: right;\">\n",
       "      <th></th>\n",
       "      <th>JKSE</th>\n",
       "      <th>BBRI</th>\n",
       "    </tr>\n",
       "  </thead>\n",
       "  <tbody>\n",
       "    <tr>\n",
       "      <th>0</th>\n",
       "      <td>5995.616211</td>\n",
       "      <td>4050.000000</td>\n",
       "    </tr>\n",
       "    <tr>\n",
       "      <th>1</th>\n",
       "      <td>5947.462891</td>\n",
       "      <td>4260.000000</td>\n",
       "    </tr>\n",
       "    <tr>\n",
       "      <th>2</th>\n",
       "      <td>5985.488770</td>\n",
       "      <td>3940.000000</td>\n",
       "    </tr>\n",
       "    <tr>\n",
       "      <th>3</th>\n",
       "      <td>6070.039063</td>\n",
       "      <td>3710.000000</td>\n",
       "    </tr>\n",
       "    <tr>\n",
       "      <th>4</th>\n",
       "      <td>6150.298828</td>\n",
       "      <td>3572.665527</td>\n",
       "    </tr>\n",
       "    <tr>\n",
       "      <th>5</th>\n",
       "      <td>6286.942871</td>\n",
       "      <td>3850.000000</td>\n",
       "    </tr>\n",
       "    <tr>\n",
       "      <th>6</th>\n",
       "      <td>6591.346191</td>\n",
       "      <td>4250.000000</td>\n",
       "    </tr>\n",
       "    <tr>\n",
       "      <th>7</th>\n",
       "      <td>6533.932129</td>\n",
       "      <td>4090.000000</td>\n",
       "    </tr>\n",
       "    <tr>\n",
       "      <th>8</th>\n",
       "      <td>6581.481934</td>\n",
       "      <td>4110.000000</td>\n",
       "    </tr>\n",
       "    <tr>\n",
       "      <th>9</th>\n",
       "      <td>6631.150879</td>\n",
       "      <td>4070.000000</td>\n",
       "    </tr>\n",
       "    <tr>\n",
       "      <th>10</th>\n",
       "      <td>6888.170898</td>\n",
       "      <td>4550.000000</td>\n",
       "    </tr>\n",
       "    <tr>\n",
       "      <th>11</th>\n",
       "      <td>6954.964844</td>\n",
       "      <td>4580.000000</td>\n",
       "    </tr>\n",
       "    <tr>\n",
       "      <th>12</th>\n",
       "      <td>6954.964844</td>\n",
       "      <td>4580.000000</td>\n",
       "    </tr>\n",
       "  </tbody>\n",
       "</table>\n",
       "</div>"
      ],
      "text/plain": [
       "           JKSE         BBRI\n",
       "0   5995.616211  4050.000000\n",
       "1   5947.462891  4260.000000\n",
       "2   5985.488770  3940.000000\n",
       "3   6070.039063  3710.000000\n",
       "4   6150.298828  3572.665527\n",
       "5   6286.942871  3850.000000\n",
       "6   6591.346191  4250.000000\n",
       "7   6533.932129  4090.000000\n",
       "8   6581.481934  4110.000000\n",
       "9   6631.150879  4070.000000\n",
       "10  6888.170898  4550.000000\n",
       "11  6954.964844  4580.000000\n",
       "12  6954.964844  4580.000000"
      ]
     },
     "metadata": {},
     "output_type": "display_data"
    }
   ],
   "source": [
    "data = jkse.join(bbri)\n",
    "display(data)"
   ]
  },
  {
   "cell_type": "code",
   "execution_count": 14,
   "id": "44c2ade4",
   "metadata": {
    "execution": {
     "iopub.execute_input": "2022-03-26T04:05:53.861872Z",
     "iopub.status.busy": "2022-03-26T04:05:53.861258Z",
     "iopub.status.idle": "2022-03-26T04:05:53.864913Z",
     "shell.execute_reply": "2022-03-26T04:05:53.865379Z",
     "shell.execute_reply.started": "2022-03-26T03:48:18.841364Z"
    },
    "papermill": {
     "duration": 0.062525,
     "end_time": "2022-03-26T04:05:53.865530",
     "exception": false,
     "start_time": "2022-03-26T04:05:53.803005",
     "status": "completed"
    },
    "tags": []
   },
   "outputs": [
    {
     "name": "stdout",
     "output_type": "stream",
     "text": [
      "(13, 2)\n"
     ]
    }
   ],
   "source": [
    "print(data.shape)"
   ]
  },
  {
   "cell_type": "markdown",
   "id": "6ca4ad2b",
   "metadata": {
    "papermill": {
     "duration": 0.05408,
     "end_time": "2022-03-26T04:05:53.973752",
     "exception": false,
     "start_time": "2022-03-26T04:05:53.919672",
     "status": "completed"
    },
    "tags": []
   },
   "source": [
    "**Statistical Dataset**"
   ]
  },
  {
   "cell_type": "code",
   "execution_count": 15,
   "id": "a47d5604",
   "metadata": {
    "execution": {
     "iopub.execute_input": "2022-03-26T04:05:54.089311Z",
     "iopub.status.busy": "2022-03-26T04:05:54.088668Z",
     "iopub.status.idle": "2022-03-26T04:05:54.107484Z",
     "shell.execute_reply": "2022-03-26T04:05:54.108017Z",
     "shell.execute_reply.started": "2022-03-26T03:48:18.874363Z"
    },
    "papermill": {
     "duration": 0.078073,
     "end_time": "2022-03-26T04:05:54.108177",
     "exception": false,
     "start_time": "2022-03-26T04:05:54.030104",
     "status": "completed"
    },
    "tags": []
   },
   "outputs": [
    {
     "data": {
      "text/html": [
       "<div>\n",
       "<style scoped>\n",
       "    .dataframe tbody tr th:only-of-type {\n",
       "        vertical-align: middle;\n",
       "    }\n",
       "\n",
       "    .dataframe tbody tr th {\n",
       "        vertical-align: top;\n",
       "    }\n",
       "\n",
       "    .dataframe thead th {\n",
       "        text-align: right;\n",
       "    }\n",
       "</style>\n",
       "<table border=\"1\" class=\"dataframe\">\n",
       "  <thead>\n",
       "    <tr style=\"text-align: right;\">\n",
       "      <th></th>\n",
       "      <th>JKSE</th>\n",
       "      <th>BBRI</th>\n",
       "    </tr>\n",
       "  </thead>\n",
       "  <tbody>\n",
       "    <tr>\n",
       "      <th>count</th>\n",
       "      <td>13.000000</td>\n",
       "      <td>13.000000</td>\n",
       "    </tr>\n",
       "    <tr>\n",
       "      <th>mean</th>\n",
       "      <td>6428.604643</td>\n",
       "      <td>4124.051194</td>\n",
       "    </tr>\n",
       "    <tr>\n",
       "      <th>std</th>\n",
       "      <td>377.348855</td>\n",
       "      <td>319.604139</td>\n",
       "    </tr>\n",
       "    <tr>\n",
       "      <th>min</th>\n",
       "      <td>5947.462891</td>\n",
       "      <td>3572.665527</td>\n",
       "    </tr>\n",
       "    <tr>\n",
       "      <th>25%</th>\n",
       "      <td>6070.039063</td>\n",
       "      <td>3940.000000</td>\n",
       "    </tr>\n",
       "    <tr>\n",
       "      <th>50%</th>\n",
       "      <td>6533.932129</td>\n",
       "      <td>4090.000000</td>\n",
       "    </tr>\n",
       "    <tr>\n",
       "      <th>75%</th>\n",
       "      <td>6631.150879</td>\n",
       "      <td>4260.000000</td>\n",
       "    </tr>\n",
       "    <tr>\n",
       "      <th>max</th>\n",
       "      <td>6954.964844</td>\n",
       "      <td>4580.000000</td>\n",
       "    </tr>\n",
       "  </tbody>\n",
       "</table>\n",
       "</div>"
      ],
      "text/plain": [
       "              JKSE         BBRI\n",
       "count    13.000000    13.000000\n",
       "mean   6428.604643  4124.051194\n",
       "std     377.348855   319.604139\n",
       "min    5947.462891  3572.665527\n",
       "25%    6070.039063  3940.000000\n",
       "50%    6533.932129  4090.000000\n",
       "75%    6631.150879  4260.000000\n",
       "max    6954.964844  4580.000000"
      ]
     },
     "execution_count": 15,
     "metadata": {},
     "output_type": "execute_result"
    }
   ],
   "source": [
    "data.describe()"
   ]
  },
  {
   "cell_type": "code",
   "execution_count": 16,
   "id": "7dd48cbc",
   "metadata": {
    "execution": {
     "iopub.execute_input": "2022-03-26T04:05:54.224448Z",
     "iopub.status.busy": "2022-03-26T04:05:54.223833Z",
     "iopub.status.idle": "2022-03-26T04:05:54.233315Z",
     "shell.execute_reply": "2022-03-26T04:05:54.232198Z",
     "shell.execute_reply.started": "2022-03-26T03:48:18.940887Z"
    },
    "papermill": {
     "duration": 0.069257,
     "end_time": "2022-03-26T04:05:54.233725",
     "exception": false,
     "start_time": "2022-03-26T04:05:54.164468",
     "status": "completed"
    },
    "tags": []
   },
   "outputs": [
    {
     "name": "stdout",
     "output_type": "stream",
     "text": [
      "          JKSE         BBRI\n",
      "0  5995.616211  4050.000000\n",
      "1  5947.462891  4260.000000\n",
      "2  5985.488770  3940.000000\n",
      "3  6070.039063  3710.000000\n",
      "4  6150.298828  3572.665527\n"
     ]
    }
   ],
   "source": [
    "print(data.head())"
   ]
  },
  {
   "cell_type": "markdown",
   "id": "4634c8e5",
   "metadata": {
    "papermill": {
     "duration": 0.055437,
     "end_time": "2022-03-26T04:05:54.347837",
     "exception": false,
     "start_time": "2022-03-26T04:05:54.292400",
     "status": "completed"
    },
    "tags": []
   },
   "source": [
    "***\n",
    "# Linear Regression\n",
    "***"
   ]
  },
  {
   "cell_type": "markdown",
   "id": "2379581f",
   "metadata": {
    "papermill": {
     "duration": 0.054536,
     "end_time": "2022-03-26T04:05:54.457326",
     "exception": false,
     "start_time": "2022-03-26T04:05:54.402790",
     "status": "completed"
    },
    "tags": []
   },
   "source": [
    "# Constanta and Coefficient"
   ]
  },
  {
   "cell_type": "code",
   "execution_count": 17,
   "id": "3c27e61c",
   "metadata": {
    "execution": {
     "iopub.execute_input": "2022-03-26T04:05:54.573064Z",
     "iopub.status.busy": "2022-03-26T04:05:54.572420Z",
     "iopub.status.idle": "2022-03-26T04:05:54.576122Z",
     "shell.execute_reply": "2022-03-26T04:05:54.575536Z",
     "shell.execute_reply.started": "2022-03-26T03:48:19.000428Z"
    },
    "papermill": {
     "duration": 0.063842,
     "end_time": "2022-03-26T04:05:54.576258",
     "exception": false,
     "start_time": "2022-03-26T04:05:54.512416",
     "status": "completed"
    },
    "tags": []
   },
   "outputs": [],
   "source": [
    "X = data['JKSE'].values\n",
    "Y = data['BBRI'].values"
   ]
  },
  {
   "cell_type": "code",
   "execution_count": 18,
   "id": "2cf58fb0",
   "metadata": {
    "execution": {
     "iopub.execute_input": "2022-03-26T04:05:54.690854Z",
     "iopub.status.busy": "2022-03-26T04:05:54.690226Z",
     "iopub.status.idle": "2022-03-26T04:05:54.697052Z",
     "shell.execute_reply": "2022-03-26T04:05:54.697886Z",
     "shell.execute_reply.started": "2022-03-26T03:53:20.749424Z"
    },
    "papermill": {
     "duration": 0.066643,
     "end_time": "2022-03-26T04:05:54.698064",
     "exception": false,
     "start_time": "2022-03-26T04:05:54.631421",
     "status": "completed"
    },
    "tags": []
   },
   "outputs": [
    {
     "name": "stdout",
     "output_type": "stream",
     "text": [
      "0.6253285009837307 104.06148984898755\n"
     ]
    }
   ],
   "source": [
    "#Mean X and Y\n",
    "mean_x = np.mean(X)\n",
    "mean_y = np.mean(Y)\n",
    "\n",
    "#Total number of values\n",
    "total_values = len(X)\n",
    "\n",
    "#using the formula to calculate b1 and b2\n",
    "# coefficient (b0) \n",
    "# constanta (b1)\n",
    "numeric = 0\n",
    "denom = 0\n",
    "for i in range(total_values):\n",
    "    numeric += (X[i] - mean_x) * (Y[i]- mean_y)\n",
    "    denom += (X[i] - mean_x) ** 2\n",
    "b1 = numeric/denom\n",
    "b0 = mean_y - (b1 * mean_x)\n",
    "\n",
    "#Print coefficients\n",
    "print(b1,b0)"
   ]
  },
  {
   "cell_type": "markdown",
   "id": "f9fe0d96",
   "metadata": {
    "papermill": {
     "duration": 0.05612,
     "end_time": "2022-03-26T04:05:54.810721",
     "exception": false,
     "start_time": "2022-03-26T04:05:54.754601",
     "status": "completed"
    },
    "tags": []
   },
   "source": [
    "# 2D Graph"
   ]
  },
  {
   "cell_type": "code",
   "execution_count": 19,
   "id": "ec54fb34",
   "metadata": {
    "execution": {
     "iopub.execute_input": "2022-03-26T04:05:54.927800Z",
     "iopub.status.busy": "2022-03-26T04:05:54.927106Z",
     "iopub.status.idle": "2022-03-26T04:05:54.932548Z",
     "shell.execute_reply": "2022-03-26T04:05:54.933111Z",
     "shell.execute_reply.started": "2022-03-26T03:48:19.126685Z"
    },
    "papermill": {
     "duration": 0.065401,
     "end_time": "2022-03-26T04:05:54.933287",
     "exception": false,
     "start_time": "2022-03-26T04:05:54.867886",
     "status": "completed"
    },
    "tags": []
   },
   "outputs": [],
   "source": [
    "%matplotlib inline\n",
    "import matplotlib.pyplot as plt\n",
    "plt.rcParams['figure.figsize'] = (20.0 , 10.0)"
   ]
  },
  {
   "cell_type": "code",
   "execution_count": 20,
   "id": "709831ac",
   "metadata": {
    "execution": {
     "iopub.execute_input": "2022-03-26T04:05:55.059786Z",
     "iopub.status.busy": "2022-03-26T04:05:55.058859Z",
     "iopub.status.idle": "2022-03-26T04:05:55.336365Z",
     "shell.execute_reply": "2022-03-26T04:05:55.335833Z",
     "shell.execute_reply.started": "2022-03-26T03:48:19.197358Z"
    },
    "papermill": {
     "duration": 0.346244,
     "end_time": "2022-03-26T04:05:55.336505",
     "exception": false,
     "start_time": "2022-03-26T04:05:54.990261",
     "status": "completed"
    },
    "tags": []
   },
   "outputs": [
    {
     "data": {
      "image/png": "[encoded data removed]",
      "text/plain": [
       "<Figure size 1440x720 with 1 Axes>"
      ]
     },
     "metadata": {
      "needs_background": "light"
     },
     "output_type": "display_data"
    }
   ],
   "source": [
    "#ploting values and regression line\n",
    "max_x = np.max(X) + 100\n",
    "min_x = np.min(X) - 100\n",
    "\n",
    "#calculating line values x and y\n",
    "x = np.linspace(min_x, max_x, 100)\n",
    "y = b0+b1*x\n",
    "\n",
    "#ploting line\n",
    "plt.plot(x,y, color='#58b970', label = 'Regression Line')\n",
    "\n",
    "#ploting scatters points\n",
    "plt.scatter(X,Y, c='#ef5423' , label ='Scatter Plot')\n",
    "\n",
    "plt.xlabel('JKSE')\n",
    "plt.ylabel('BBRI')\n",
    "plt.legend()\n",
    "plt.show()"
   ]
  },
  {
   "cell_type": "code",
   "execution_count": 21,
   "id": "c3f37e4d",
   "metadata": {
    "execution": {
     "iopub.execute_input": "2022-03-26T04:05:55.458146Z",
     "iopub.status.busy": "2022-03-26T04:05:55.457417Z",
     "iopub.status.idle": "2022-03-26T04:05:55.698571Z",
     "shell.execute_reply": "2022-03-26T04:05:55.697991Z",
     "shell.execute_reply.started": "2022-03-26T03:48:19.473066Z"
    },
    "papermill": {
     "duration": 0.303524,
     "end_time": "2022-03-26T04:05:55.698738",
     "exception": false,
     "start_time": "2022-03-26T04:05:55.395214",
     "status": "completed"
    },
    "tags": []
   },
   "outputs": [
    {
     "data": {
      "image/png": "[encoded data removed]",
      "text/plain": [
       "<Figure size 1440x720 with 1 Axes>"
      ]
     },
     "metadata": {
      "needs_background": "light"
     },
     "output_type": "display_data"
    }
   ],
   "source": [
    "data.plot(x='JKSE', y='BBRI', style='o')\n",
    "plt.title('Hours vs Percentage')\n",
    "plt.xlabel('Hours Studied')\n",
    "plt.ylabel('Percentage Score')\n",
    "plt.show()"
   ]
  },
  {
   "cell_type": "markdown",
   "id": "73ed64be",
   "metadata": {
    "papermill": {
     "duration": 0.058893,
     "end_time": "2022-03-26T04:05:55.818615",
     "exception": false,
     "start_time": "2022-03-26T04:05:55.759722",
     "status": "completed"
    },
    "tags": []
   },
   "source": [
    "From the graph above, we can see the influence of JKSE on the market from BBRI"
   ]
  },
  {
   "cell_type": "markdown",
   "id": "34d4f36a",
   "metadata": {
    "papermill": {
     "duration": 0.059744,
     "end_time": "2022-03-26T04:05:55.939335",
     "exception": false,
     "start_time": "2022-03-26T04:05:55.879591",
     "status": "completed"
    },
    "tags": []
   },
   "source": [
    "# R-Squared"
   ]
  },
  {
   "cell_type": "markdown",
   "id": "56f2a734",
   "metadata": {
    "papermill": {
     "duration": 0.058743,
     "end_time": "2022-03-26T04:05:56.057760",
     "exception": false,
     "start_time": "2022-03-26T04:05:55.999017",
     "status": "completed"
    },
    "tags": []
   },
   "source": [
    "knowing how big the percentage of the model to the results"
   ]
  },
  {
   "cell_type": "code",
   "execution_count": 22,
   "id": "2d739874",
   "metadata": {
    "execution": {
     "iopub.execute_input": "2022-03-26T04:05:56.182785Z",
     "iopub.status.busy": "2022-03-26T04:05:56.182106Z",
     "iopub.status.idle": "2022-03-26T04:05:56.188053Z",
     "shell.execute_reply": "2022-03-26T04:05:56.188457Z",
     "shell.execute_reply.started": "2022-03-26T03:54:57.501404Z"
    },
    "papermill": {
     "duration": 0.068692,
     "end_time": "2022-03-26T04:05:56.188608",
     "exception": false,
     "start_time": "2022-03-26T04:05:56.119916",
     "status": "completed"
    },
    "tags": []
   },
   "outputs": [
    {
     "name": "stdout",
     "output_type": "stream",
     "text": [
      "0.5451019439622579\n"
     ]
    }
   ],
   "source": [
    "#ss_t = realitation value\n",
    "#ss_r = prediction value\n",
    "ss_t = 0\n",
    "ss_r = 0\n",
    "for i in range(total_values):\n",
    "    y_pred = b0 + b1 * X[i]\n",
    "    ss_t += (Y[i] - mean_y) ** 2\n",
    "    ss_r += (Y[i] - y_pred) ** 2\n",
    "r2 = 1 - (ss_r/ss_t)\n",
    "print(r2)"
   ]
  },
  {
   "cell_type": "markdown",
   "id": "66a1f2e4",
   "metadata": {
    "papermill": {
     "duration": 0.04,
     "end_time": "2022-03-26T04:05:56.269074",
     "exception": false,
     "start_time": "2022-03-26T04:05:56.229074",
     "status": "completed"
    },
    "tags": []
   },
   "source": [
    "***\n",
    "# Conclution\n",
    "***"
   ]
  },
  {
   "cell_type": "markdown",
   "id": "f36212da",
   "metadata": {
    "papermill": {
     "duration": 0.039944,
     "end_time": "2022-03-26T04:05:56.350001",
     "exception": false,
     "start_time": "2022-03-26T04:05:56.310057",
     "status": "completed"
    },
    "tags": []
   },
   "source": [
    "* BBRI stock exchange against JKSE produces a positive scatterplot\n",
    "* JKSE contributes 55% to BBRI stock prediction"
   ]
  },
  {
   "cell_type": "markdown",
   "id": "3aa9a1b3",
   "metadata": {
    "papermill": {
     "duration": 0.039591,
     "end_time": "2022-03-26T04:05:56.429250",
     "exception": false,
     "start_time": "2022-03-26T04:05:56.389659",
     "status": "completed"
    },
    "tags": []
   },
   "source": []
  }
 ],
 "metadata": {
  "kernelspec": {
   "display_name": "Python 3",
   "language": "python",
   "name": "python3"
  },
  "language_info": {
   "codemirror_mode": {
    "name": "ipython",
    "version": 3
   },
   "file_extension": ".py",
   "mimetype": "text/x-python",
   "name": "python",
   "nbconvert_exporter": "python",
   "pygments_lexer": "ipython3",
   "version": "3.7.12"
  },
  "papermill": {
   "default_parameters": {},
   "duration": 19.023059,
   "end_time": "2022-03-26T04:05:57.375796",
   "environment_variables": {},
   "exception": null,
   "input_path": "__notebook__.ipynb",
   "output_path": "__notebook__.ipynb",
   "parameters": {},
   "start_time": "2022-03-26T04:05:38.352737",
   "version": "2.3.3"
  }
 },
 "nbformat": 4,
 "nbformat_minor": 5
}
